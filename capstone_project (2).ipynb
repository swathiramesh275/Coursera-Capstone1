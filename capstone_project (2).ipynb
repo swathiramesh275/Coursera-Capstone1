{
  "nbformat": 4,
  "nbformat_minor": 0,
  "metadata": {
    "colab": {
      "name": "capstone project.ipynb",
      "provenance": []
    },
    "kernelspec": {
      "name": "python3",
      "display_name": "Python 3"
    }
  },
  "cells": [
    {
      "cell_type": "markdown",
      "metadata": {
        "id": "MRBrT39I_ZXE"
      },
      "source": [
        "# **Capstone Project - Predicting Traffic Accident Severity**"
      ]
    },
    {
      "cell_type": "markdown",
      "metadata": {
        "id": "Lw0lhBnw_elE"
      },
      "source": [
        "# **1. Introduction**\n",
        "Road traffic injuries are currently estimated to be the eighth leading cause of death across all age groups globally, and are predicted to become the seventh leading cause of death by 2030.\n",
        "\n",
        "Analysing a significant range of factors, including weather conditions, special events, roadworks, traffic jams among others, an accurate prediction of the severity of the accidents can be performed.\n",
        "\n",
        "These insights, could allow law enforcement bodies to allocate their resources more effectively in advance of potential accidents, preventing when and where a severe accidents can occur as well as saving both, time and money. In addition, this knowledge of a severe accident situation can be warned to drivers so that they would drive more carefully or even change their route if it is possible or to hospital which could have set everything ready for a severe intervention in advance.\n",
        "\n",
        "Governments should be highly interested in accurate predictions of the severity of an accident, in order to reduce the time of arrival and thus save a significant amount of people each year. Others interested could be private companies investing in technologies aiming to improve road safeness."
      ]
    },
    {
      "cell_type": "markdown",
      "metadata": {
        "id": "9jUbyoi9_jOC"
      },
      "source": [
        "### **2. Data**\n",
        "The original data for this project comes from the following Kaggle data set. In a previous notebook, Feature Selection, I performed a selection of the most relevant features for the prediction of traffic accident severity.\n",
        "\n",
        "The features of the dataset resulting are the following:\n",
        "\n",
        "In the characteristics dataset, I will keep the features: \"lighting\", \"localisation\"(agg), \"type of intersection\", \"atmospheric conditions\", \"type of collisions\", \"department\", \"adress\", \"time\" and the coordinates. I added two new features from this original dataset: \"date\" and \"weekend\" indicating if the accident occurred during the weekend or not.\n",
        "\n",
        "In the places dataset, I will keep only the features: \"road categorie\", \"traffic regime\", \"number of traffic lanes\", \"road profile\", \"road shape\", \"surface condition\", \"situation\", \"school nearby\" and \"infrastructure\"."
      ]
    },
    {
      "cell_type": "code",
      "metadata": {
        "id": "EPP3PBeXUhmI"
      },
      "source": [
        "import pandas as pd\n",
        "import numpy as np\n",
        "import seaborn as sns\n",
        "\n",
        "import matplotlib.pyplot as plt\n",
        "\n",
        "import datetime as dt\n",
        "\n",
        "import warnings\n",
        "warnings.filterwarnings('ignore')"
      ],
      "execution_count": 167,
      "outputs": []
    },
    {
      "cell_type": "markdown",
      "metadata": {
        "id": "-tKP09g__q4y"
      },
      "source": [
        "### **3. Data Cleaning**\n",
        "Before starting to run any ML algorithm on the data, the data have to go through the preprocessing part. In this part, data will be cleaned so there is no missing or unusual value. The goal is that the data is the best possible before applying the algorithms."
      ]
    },
    {
      "cell_type": "markdown",
      "metadata": {
        "id": "ocy43sm7_44O"
      },
      "source": [
        "**Importing Data**"
      ]
    },
    {
      "cell_type": "code",
      "metadata": {
        "id": "oB7ocFEjUuFT",
        "outputId": "ea0a3179-4689-4f78-fb99-98f29725fbd5",
        "colab": {
          "base_uri": "https://localhost:8080/",
          "height": 541
        }
      },
      "source": [
        "df = pd.read_csv('/content/Data1.csv', index_col=0)\n",
        "df.head(10)"
      ],
      "execution_count": 168,
      "outputs": [
        {
          "output_type": "execute_result",
          "data": {
            "text/html": [
              "<div>\n",
              "<style scoped>\n",
              "    .dataframe tbody tr th:only-of-type {\n",
              "        vertical-align: middle;\n",
              "    }\n",
              "\n",
              "    .dataframe tbody tr th {\n",
              "        vertical-align: top;\n",
              "    }\n",
              "\n",
              "    .dataframe thead th {\n",
              "        text-align: right;\n",
              "    }\n",
              "</style>\n",
              "<table border=\"1\" class=\"dataframe\">\n",
              "  <thead>\n",
              "    <tr style=\"text-align: right;\">\n",
              "      <th></th>\n",
              "      <th>ID</th>\n",
              "      <th>time</th>\n",
              "      <th>lum</th>\n",
              "      <th>agg</th>\n",
              "      <th>int</th>\n",
              "      <th>atm</th>\n",
              "      <th>col</th>\n",
              "      <th>lat</th>\n",
              "      <th>long</th>\n",
              "      <th>dep</th>\n",
              "      <th>road_cat</th>\n",
              "      <th>road_num</th>\n",
              "      <th>traf_reg</th>\n",
              "      <th>num_lanes</th>\n",
              "      <th>res_lane</th>\n",
              "      <th>long_prof</th>\n",
              "      <th>shape</th>\n",
              "      <th>surf</th>\n",
              "      <th>infra</th>\n",
              "      <th>situation</th>\n",
              "      <th>school</th>\n",
              "      <th>crit_age</th>\n",
              "      <th>ped</th>\n",
              "      <th>dead_age</th>\n",
              "      <th>num_us</th>\n",
              "      <th>sev</th>\n",
              "      <th>date</th>\n",
              "      <th>weekend</th>\n",
              "      <th>holiday</th>\n",
              "    </tr>\n",
              "  </thead>\n",
              "  <tbody>\n",
              "    <tr>\n",
              "      <th>0</th>\n",
              "      <td>201600000001</td>\n",
              "      <td>14.0</td>\n",
              "      <td>1</td>\n",
              "      <td>2</td>\n",
              "      <td>1</td>\n",
              "      <td>8.0</td>\n",
              "      <td>3.0</td>\n",
              "      <td>0.0</td>\n",
              "      <td>0.0</td>\n",
              "      <td>590.0</td>\n",
              "      <td>3</td>\n",
              "      <td>39</td>\n",
              "      <td>2.0</td>\n",
              "      <td>0.0</td>\n",
              "      <td>0.0</td>\n",
              "      <td>1.0</td>\n",
              "      <td>3.0</td>\n",
              "      <td>1.0</td>\n",
              "      <td>0.0</td>\n",
              "      <td>1.0</td>\n",
              "      <td>0.0</td>\n",
              "      <td>0.0</td>\n",
              "      <td>0.0</td>\n",
              "      <td>0.0</td>\n",
              "      <td>2.0</td>\n",
              "      <td>1.0</td>\n",
              "      <td>2016-02-01</td>\n",
              "      <td>0</td>\n",
              "      <td>0.0</td>\n",
              "    </tr>\n",
              "    <tr>\n",
              "      <th>1</th>\n",
              "      <td>201600000002</td>\n",
              "      <td>18.0</td>\n",
              "      <td>1</td>\n",
              "      <td>2</td>\n",
              "      <td>6</td>\n",
              "      <td>1.0</td>\n",
              "      <td>6.0</td>\n",
              "      <td>0.0</td>\n",
              "      <td>0.0</td>\n",
              "      <td>590.0</td>\n",
              "      <td>3</td>\n",
              "      <td>39</td>\n",
              "      <td>1.0</td>\n",
              "      <td>0.0</td>\n",
              "      <td>0.0</td>\n",
              "      <td>1.0</td>\n",
              "      <td>2.0</td>\n",
              "      <td>1.0</td>\n",
              "      <td>0.0</td>\n",
              "      <td>1.0</td>\n",
              "      <td>0.0</td>\n",
              "      <td>0.0</td>\n",
              "      <td>0.0</td>\n",
              "      <td>0.0</td>\n",
              "      <td>3.0</td>\n",
              "      <td>1.0</td>\n",
              "      <td>2016-03-16</td>\n",
              "      <td>0</td>\n",
              "      <td>0.0</td>\n",
              "    </tr>\n",
              "    <tr>\n",
              "      <th>2</th>\n",
              "      <td>201600000003</td>\n",
              "      <td>19.0</td>\n",
              "      <td>1</td>\n",
              "      <td>1</td>\n",
              "      <td>1</td>\n",
              "      <td>1.0</td>\n",
              "      <td>6.0</td>\n",
              "      <td>0.0</td>\n",
              "      <td>0.0</td>\n",
              "      <td>590.0</td>\n",
              "      <td>3</td>\n",
              "      <td>1</td>\n",
              "      <td>2.0</td>\n",
              "      <td>2.0</td>\n",
              "      <td>0.0</td>\n",
              "      <td>1.0</td>\n",
              "      <td>3.0</td>\n",
              "      <td>2.0</td>\n",
              "      <td>0.0</td>\n",
              "      <td>3.0</td>\n",
              "      <td>99.0</td>\n",
              "      <td>1.0</td>\n",
              "      <td>1.0</td>\n",
              "      <td>0.0</td>\n",
              "      <td>2.0</td>\n",
              "      <td>1.0</td>\n",
              "      <td>2016-07-13</td>\n",
              "      <td>0</td>\n",
              "      <td>0.0</td>\n",
              "    </tr>\n",
              "    <tr>\n",
              "      <th>3</th>\n",
              "      <td>201600000004</td>\n",
              "      <td>19.0</td>\n",
              "      <td>2</td>\n",
              "      <td>2</td>\n",
              "      <td>1</td>\n",
              "      <td>7.0</td>\n",
              "      <td>3.0</td>\n",
              "      <td>0.0</td>\n",
              "      <td>0.0</td>\n",
              "      <td>590.0</td>\n",
              "      <td>4</td>\n",
              "      <td>0</td>\n",
              "      <td>2.0</td>\n",
              "      <td>0.0</td>\n",
              "      <td>0.0</td>\n",
              "      <td>1.0</td>\n",
              "      <td>1.0</td>\n",
              "      <td>1.0</td>\n",
              "      <td>0.0</td>\n",
              "      <td>1.0</td>\n",
              "      <td>99.0</td>\n",
              "      <td>1.0</td>\n",
              "      <td>0.0</td>\n",
              "      <td>0.0</td>\n",
              "      <td>3.0</td>\n",
              "      <td>1.0</td>\n",
              "      <td>2016-08-15</td>\n",
              "      <td>0</td>\n",
              "      <td>1.0</td>\n",
              "    </tr>\n",
              "    <tr>\n",
              "      <th>4</th>\n",
              "      <td>201600000005</td>\n",
              "      <td>11.0</td>\n",
              "      <td>1</td>\n",
              "      <td>2</td>\n",
              "      <td>3</td>\n",
              "      <td>1.0</td>\n",
              "      <td>3.0</td>\n",
              "      <td>0.0</td>\n",
              "      <td>0.0</td>\n",
              "      <td>590.0</td>\n",
              "      <td>4</td>\n",
              "      <td>0</td>\n",
              "      <td>0.0</td>\n",
              "      <td>0.0</td>\n",
              "      <td>0.0</td>\n",
              "      <td>0.0</td>\n",
              "      <td>1.0</td>\n",
              "      <td>1.0</td>\n",
              "      <td>0.0</td>\n",
              "      <td>1.0</td>\n",
              "      <td>3.0</td>\n",
              "      <td>0.0</td>\n",
              "      <td>0.0</td>\n",
              "      <td>0.0</td>\n",
              "      <td>3.0</td>\n",
              "      <td>1.0</td>\n",
              "      <td>2016-12-23</td>\n",
              "      <td>0</td>\n",
              "      <td>0.0</td>\n",
              "    </tr>\n",
              "    <tr>\n",
              "      <th>5</th>\n",
              "      <td>201600000006</td>\n",
              "      <td>11.0</td>\n",
              "      <td>1</td>\n",
              "      <td>2</td>\n",
              "      <td>1</td>\n",
              "      <td>7.0</td>\n",
              "      <td>6.0</td>\n",
              "      <td>0.0</td>\n",
              "      <td>0.0</td>\n",
              "      <td>590.0</td>\n",
              "      <td>3</td>\n",
              "      <td>41</td>\n",
              "      <td>2.0</td>\n",
              "      <td>0.0</td>\n",
              "      <td>0.0</td>\n",
              "      <td>1.0</td>\n",
              "      <td>1.0</td>\n",
              "      <td>1.0</td>\n",
              "      <td>0.0</td>\n",
              "      <td>1.0</td>\n",
              "      <td>99.0</td>\n",
              "      <td>0.0</td>\n",
              "      <td>1.0</td>\n",
              "      <td>0.0</td>\n",
              "      <td>2.0</td>\n",
              "      <td>1.0</td>\n",
              "      <td>2016-12-23</td>\n",
              "      <td>0</td>\n",
              "      <td>0.0</td>\n",
              "    </tr>\n",
              "    <tr>\n",
              "      <th>6</th>\n",
              "      <td>201600000007</td>\n",
              "      <td>11.0</td>\n",
              "      <td>1</td>\n",
              "      <td>2</td>\n",
              "      <td>1</td>\n",
              "      <td>7.0</td>\n",
              "      <td>2.0</td>\n",
              "      <td>0.0</td>\n",
              "      <td>0.0</td>\n",
              "      <td>590.0</td>\n",
              "      <td>3</td>\n",
              "      <td>1</td>\n",
              "      <td>2.0</td>\n",
              "      <td>0.0</td>\n",
              "      <td>0.0</td>\n",
              "      <td>1.0</td>\n",
              "      <td>1.0</td>\n",
              "      <td>1.0</td>\n",
              "      <td>0.0</td>\n",
              "      <td>1.0</td>\n",
              "      <td>99.0</td>\n",
              "      <td>0.0</td>\n",
              "      <td>0.0</td>\n",
              "      <td>0.0</td>\n",
              "      <td>3.0</td>\n",
              "      <td>0.0</td>\n",
              "      <td>2016-05-01</td>\n",
              "      <td>1</td>\n",
              "      <td>1.0</td>\n",
              "    </tr>\n",
              "    <tr>\n",
              "      <th>7</th>\n",
              "      <td>201600000008</td>\n",
              "      <td>19.0</td>\n",
              "      <td>2</td>\n",
              "      <td>1</td>\n",
              "      <td>1</td>\n",
              "      <td>1.0</td>\n",
              "      <td>1.0</td>\n",
              "      <td>0.0</td>\n",
              "      <td>0.0</td>\n",
              "      <td>590.0</td>\n",
              "      <td>3</td>\n",
              "      <td>2</td>\n",
              "      <td>2.0</td>\n",
              "      <td>2.0</td>\n",
              "      <td>0.0</td>\n",
              "      <td>1.0</td>\n",
              "      <td>1.0</td>\n",
              "      <td>1.0</td>\n",
              "      <td>0.0</td>\n",
              "      <td>1.0</td>\n",
              "      <td>0.0</td>\n",
              "      <td>0.0</td>\n",
              "      <td>0.0</td>\n",
              "      <td>0.0</td>\n",
              "      <td>3.0</td>\n",
              "      <td>1.0</td>\n",
              "      <td>2016-05-14</td>\n",
              "      <td>1</td>\n",
              "      <td>0.0</td>\n",
              "    </tr>\n",
              "    <tr>\n",
              "      <th>8</th>\n",
              "      <td>201600000009</td>\n",
              "      <td>19.0</td>\n",
              "      <td>1</td>\n",
              "      <td>2</td>\n",
              "      <td>1</td>\n",
              "      <td>1.0</td>\n",
              "      <td>3.0</td>\n",
              "      <td>0.0</td>\n",
              "      <td>0.0</td>\n",
              "      <td>590.0</td>\n",
              "      <td>4</td>\n",
              "      <td>0</td>\n",
              "      <td>2.0</td>\n",
              "      <td>2.0</td>\n",
              "      <td>0.0</td>\n",
              "      <td>1.0</td>\n",
              "      <td>0.0</td>\n",
              "      <td>1.0</td>\n",
              "      <td>0.0</td>\n",
              "      <td>1.0</td>\n",
              "      <td>99.0</td>\n",
              "      <td>0.0</td>\n",
              "      <td>0.0</td>\n",
              "      <td>0.0</td>\n",
              "      <td>2.0</td>\n",
              "      <td>1.0</td>\n",
              "      <td>2016-09-23</td>\n",
              "      <td>0</td>\n",
              "      <td>0.0</td>\n",
              "    </tr>\n",
              "    <tr>\n",
              "      <th>9</th>\n",
              "      <td>201600000010</td>\n",
              "      <td>10.0</td>\n",
              "      <td>1</td>\n",
              "      <td>1</td>\n",
              "      <td>1</td>\n",
              "      <td>9.0</td>\n",
              "      <td>6.0</td>\n",
              "      <td>0.0</td>\n",
              "      <td>0.0</td>\n",
              "      <td>590.0</td>\n",
              "      <td>4</td>\n",
              "      <td>0</td>\n",
              "      <td>2.0</td>\n",
              "      <td>0.0</td>\n",
              "      <td>0.0</td>\n",
              "      <td>0.0</td>\n",
              "      <td>1.0</td>\n",
              "      <td>7.0</td>\n",
              "      <td>0.0</td>\n",
              "      <td>1.0</td>\n",
              "      <td>0.0</td>\n",
              "      <td>0.0</td>\n",
              "      <td>1.0</td>\n",
              "      <td>0.0</td>\n",
              "      <td>2.0</td>\n",
              "      <td>1.0</td>\n",
              "      <td>2016-12-30</td>\n",
              "      <td>0</td>\n",
              "      <td>0.0</td>\n",
              "    </tr>\n",
              "  </tbody>\n",
              "</table>\n",
              "</div>"
            ],
            "text/plain": [
              "             ID  time  lum  agg  int  ...  num_us  sev        date  weekend  holiday\n",
              "0  201600000001  14.0    1    2    1  ...     2.0  1.0  2016-02-01        0      0.0\n",
              "1  201600000002  18.0    1    2    6  ...     3.0  1.0  2016-03-16        0      0.0\n",
              "2  201600000003  19.0    1    1    1  ...     2.0  1.0  2016-07-13        0      0.0\n",
              "3  201600000004  19.0    2    2    1  ...     3.0  1.0  2016-08-15        0      1.0\n",
              "4  201600000005  11.0    1    2    3  ...     3.0  1.0  2016-12-23        0      0.0\n",
              "5  201600000006  11.0    1    2    1  ...     2.0  1.0  2016-12-23        0      0.0\n",
              "6  201600000007  11.0    1    2    1  ...     3.0  0.0  2016-05-01        1      1.0\n",
              "7  201600000008  19.0    2    1    1  ...     3.0  1.0  2016-05-14        1      0.0\n",
              "8  201600000009  19.0    1    2    1  ...     2.0  1.0  2016-09-23        0      0.0\n",
              "9  201600000010  10.0    1    1    1  ...     2.0  1.0  2016-12-30        0      0.0\n",
              "\n",
              "[10 rows x 29 columns]"
            ]
          },
          "metadata": {
            "tags": []
          },
          "execution_count": 168
        }
      ]
    },
    {
      "cell_type": "markdown",
      "metadata": {
        "id": "jZ4Fuode__PK"
      },
      "source": [
        "**Missing values**"
      ]
    },
    {
      "cell_type": "code",
      "metadata": {
        "id": "p8LZs-aaWlMu",
        "outputId": "297675c8-9dac-4a48-b5f0-d9e6649cac32",
        "colab": {
          "base_uri": "https://localhost:8080/"
        }
      },
      "source": [
        "df.info()"
      ],
      "execution_count": 169,
      "outputs": [
        {
          "output_type": "stream",
          "text": [
            "<class 'pandas.core.frame.DataFrame'>\n",
            "Int64Index: 396244 entries, 0 to 396243\n",
            "Data columns (total 29 columns):\n",
            " #   Column     Non-Null Count   Dtype  \n",
            "---  ------     --------------   -----  \n",
            " 0   ID         396244 non-null  int64  \n",
            " 1   time       396244 non-null  float64\n",
            " 2   lum        396244 non-null  int64  \n",
            " 3   agg        396244 non-null  int64  \n",
            " 4   int        396244 non-null  int64  \n",
            " 5   atm        396197 non-null  float64\n",
            " 6   col        396235 non-null  float64\n",
            " 7   lat        221987 non-null  float64\n",
            " 8   long       221982 non-null  float64\n",
            " 9   dep        396243 non-null  float64\n",
            " 10  road_cat   396244 non-null  int64  \n",
            " 11  road_num   359261 non-null  object \n",
            " 12  traf_reg   395516 non-null  float64\n",
            " 13  num_lanes  395142 non-null  float64\n",
            " 14  res_lane   394896 non-null  float64\n",
            " 15  long_prof  395266 non-null  float64\n",
            " 16  shape      395246 non-null  float64\n",
            " 17  surf       395298 non-null  float64\n",
            " 18  infra      395150 non-null  float64\n",
            " 19  situation  395306 non-null  float64\n",
            " 20  school     395149 non-null  float64\n",
            " 21  crit_age   299719 non-null  float64\n",
            " 22  ped        299719 non-null  float64\n",
            " 23  dead_age   299719 non-null  float64\n",
            " 24  num_us     299719 non-null  float64\n",
            " 25  sev        299719 non-null  float64\n",
            " 26  date       396244 non-null  object \n",
            " 27  weekend    396244 non-null  int64  \n",
            " 28  holiday    396244 non-null  float64\n",
            "dtypes: float64(21), int64(6), object(2)\n",
            "memory usage: 90.7+ MB\n"
          ],
          "name": "stdout"
        }
      ]
    },
    {
      "cell_type": "code",
      "metadata": {
        "id": "1qnZJJKjntbC",
        "outputId": "3de4ce38-18a4-4799-edef-b12e51e57977",
        "colab": {
          "base_uri": "https://localhost:8080/"
        }
      },
      "source": [
        "df['road_num'].describe()"
      ],
      "execution_count": 170,
      "outputs": [
        {
          "output_type": "execute_result",
          "data": {
            "text/plain": [
              "count     359261.0\n",
              "unique      2083.0\n",
              "top            0.0\n",
              "freq      174385.0\n",
              "Name: road_num, dtype: float64"
            ]
          },
          "metadata": {
            "tags": []
          },
          "execution_count": 170
        }
      ]
    },
    {
      "cell_type": "code",
      "metadata": {
        "id": "VgwvuM7k7Xp5",
        "outputId": "9fa68de1-b605-4701-d37f-99631f268999",
        "colab": {
          "base_uri": "https://localhost:8080/"
        }
      },
      "source": [
        "df['date'].describe()"
      ],
      "execution_count": 171,
      "outputs": [
        {
          "output_type": "execute_result",
          "data": {
            "text/plain": [
              "count         396244\n",
              "unique          2557\n",
              "top       2011-12-02\n",
              "freq             292\n",
              "Name: date, dtype: object"
            ]
          },
          "metadata": {
            "tags": []
          },
          "execution_count": 171
        }
      ]
    },
    {
      "cell_type": "markdown",
      "metadata": {
        "id": "1O3ZlJXCn5pc"
      },
      "source": [
        "From the summary of the data we see that the data types are coherent with their respective values, with the only exception of the date, and that some features have missing values.\n",
        "\n",
        "**1)**More than half of the values for the coordenates are missig, as well as roughly a 10% of the data regarding the road_num and more than a 50% of the remaining samples are a 0. Thus, to keep the amount of samples the mentioned features will be dropped.\n",
        "\n",
        "**2)**Few values are missing in some features such as the atmospheric conditions or road category.\n",
        "\n",
        "Missing values and outliers will be filled with the label for Other cases category if possible. If not the most frequent value of the feature will be applyed.\n",
        "\n",
        "\n"
      ]
    },
    {
      "cell_type": "code",
      "metadata": {
        "id": "Mhc6lpQQnw6r"
      },
      "source": [
        "df.drop(['lat', 'long', 'road_num'], axis=1, inplace=True)"
      ],
      "execution_count": 172,
      "outputs": []
    },
    {
      "cell_type": "code",
      "metadata": {
        "id": "Z1vZ9n89n1xV",
        "outputId": "6a1fe3f2-ede1-4ca8-b29a-ef2e49f645a0",
        "colab": {
          "base_uri": "https://localhost:8080/"
        }
      },
      "source": [
        "print('Missing values in atm:', df[\"atm\"].isna().sum(),'\\n'\n",
        "    'Missing values in collision:', df[\"col\"].isna().sum(), '\\n'\n",
        "    'Missing values in road_cat:', df[\"road_cat\"].isna().sum(),'\\n'\n",
        "    'Missing values in surf:', df[\"surf\"].isna().sum())"
      ],
      "execution_count": 173,
      "outputs": [
        {
          "output_type": "stream",
          "text": [
            "Missing values in atm: 47 \n",
            "Missing values in collision: 9 \n",
            "Missing values in road_cat: 0 \n",
            "Missing values in surf: 946\n"
          ],
          "name": "stdout"
        }
      ]
    },
    {
      "cell_type": "code",
      "metadata": {
        "id": "qRMpHg02oIz-",
        "outputId": "ec955398-633d-42a2-97b6-bff84f076abe",
        "colab": {
          "base_uri": "https://localhost:8080/",
          "height": 422
        }
      },
      "source": [
        "df['atm'].hist(alpha=0.5, rwidth=0.35, align='mid', figsize=(12,6), label='atm')\n",
        "df['col'].hist(alpha=0.5, rwidth=0.35, align='mid', label='collision')\n",
        "df['road_cat'].hist(alpha=0.6, rwidth=0.35, align='left', label='road_cat')\n",
        "df['surf'].hist(alpha=0.3,rwidth=0.35, align='left', label='surf')\n",
        "plt.title('Frequency of the values in 4 different features', size=12)\n",
        "plt.xticks(range(10))\n",
        "plt.xlabel('Value')\n",
        "plt.ylabel('Frequency')\n",
        "plt.legend()"
      ],
      "execution_count": 174,
      "outputs": [
        {
          "output_type": "execute_result",
          "data": {
            "text/plain": [
              "<matplotlib.legend.Legend at 0x7f9f37dc7c50>"
            ]
          },
          "metadata": {
            "tags": []
          },
          "execution_count": 174
        },
        {
          "output_type": "display_data",
          "data": {
            "image/png": "[encoded data removed]",
            "text/plain": [
              "<Figure size 864x432 with 1 Axes>"
            ]
          },
          "metadata": {
            "tags": [],
            "needs_background": "light"
          }
        }
      ]
    },
    {
      "cell_type": "code",
      "metadata": {
        "id": "-gBjPNbVoLyT",
        "outputId": "736b7914-d9d2-471e-f099-810763229fc0",
        "colab": {
          "base_uri": "https://localhost:8080/"
        }
      },
      "source": [
        "df['atm'].fillna(9, inplace=True)\n",
        "df['col'].fillna(6, inplace=True)\n",
        "df['road_cat'].fillna(9, inplace=True)\n",
        "df['surf'].fillna(9, inplace=True)\n",
        "df['surf'].replace(0,9, inplace=True)\n",
        "df.surf.value_counts()"
      ],
      "execution_count": 175,
      "outputs": [
        {
          "output_type": "execute_result",
          "data": {
            "text/plain": [
              "1.0    305265\n",
              "2.0     67858\n",
              "9.0     18234\n",
              "7.0      2189\n",
              "8.0       937\n",
              "5.0       931\n",
              "3.0       430\n",
              "6.0       234\n",
              "4.0       166\n",
              "Name: surf, dtype: int64"
            ]
          },
          "metadata": {
            "tags": []
          },
          "execution_count": 175
        }
      ]
    },
    {
      "cell_type": "code",
      "metadata": {
        "id": "AKNyRVWnoS8W",
        "outputId": "1c39c10c-7357-4fe8-a2b6-afc9c07f105b",
        "colab": {
          "base_uri": "https://localhost:8080/",
          "height": 288
        }
      },
      "source": [
        "df[['traf_reg', 'num_lanes','res_lane', 'long_prof', 'shape', 'infra', 'situation']].describe()"
      ],
      "execution_count": 176,
      "outputs": [
        {
          "output_type": "execute_result",
          "data": {
            "text/html": [
              "<div>\n",
              "<style scoped>\n",
              "    .dataframe tbody tr th:only-of-type {\n",
              "        vertical-align: middle;\n",
              "    }\n",
              "\n",
              "    .dataframe tbody tr th {\n",
              "        vertical-align: top;\n",
              "    }\n",
              "\n",
              "    .dataframe thead th {\n",
              "        text-align: right;\n",
              "    }\n",
              "</style>\n",
              "<table border=\"1\" class=\"dataframe\">\n",
              "  <thead>\n",
              "    <tr style=\"text-align: right;\">\n",
              "      <th></th>\n",
              "      <th>traf_reg</th>\n",
              "      <th>num_lanes</th>\n",
              "      <th>res_lane</th>\n",
              "      <th>long_prof</th>\n",
              "      <th>shape</th>\n",
              "      <th>infra</th>\n",
              "      <th>situation</th>\n",
              "    </tr>\n",
              "  </thead>\n",
              "  <tbody>\n",
              "    <tr>\n",
              "      <th>count</th>\n",
              "      <td>395516.000000</td>\n",
              "      <td>395142.000000</td>\n",
              "      <td>394896.000000</td>\n",
              "      <td>395266.000000</td>\n",
              "      <td>395246.000000</td>\n",
              "      <td>395150.000000</td>\n",
              "      <td>395306.000000</td>\n",
              "    </tr>\n",
              "    <tr>\n",
              "      <th>mean</th>\n",
              "      <td>1.836482</td>\n",
              "      <td>1.991638</td>\n",
              "      <td>0.131146</td>\n",
              "      <td>1.130952</td>\n",
              "      <td>1.194616</td>\n",
              "      <td>0.430120</td>\n",
              "      <td>1.147094</td>\n",
              "    </tr>\n",
              "    <tr>\n",
              "      <th>std</th>\n",
              "      <td>0.739864</td>\n",
              "      <td>1.260452</td>\n",
              "      <td>0.554474</td>\n",
              "      <td>0.623801</td>\n",
              "      <td>0.730355</td>\n",
              "      <td>1.337904</td>\n",
              "      <td>0.732933</td>\n",
              "    </tr>\n",
              "    <tr>\n",
              "      <th>min</th>\n",
              "      <td>0.000000</td>\n",
              "      <td>0.000000</td>\n",
              "      <td>0.000000</td>\n",
              "      <td>0.000000</td>\n",
              "      <td>0.000000</td>\n",
              "      <td>0.000000</td>\n",
              "      <td>0.000000</td>\n",
              "    </tr>\n",
              "    <tr>\n",
              "      <th>25%</th>\n",
              "      <td>2.000000</td>\n",
              "      <td>1.000000</td>\n",
              "      <td>0.000000</td>\n",
              "      <td>1.000000</td>\n",
              "      <td>1.000000</td>\n",
              "      <td>0.000000</td>\n",
              "      <td>1.000000</td>\n",
              "    </tr>\n",
              "    <tr>\n",
              "      <th>50%</th>\n",
              "      <td>2.000000</td>\n",
              "      <td>2.000000</td>\n",
              "      <td>0.000000</td>\n",
              "      <td>1.000000</td>\n",
              "      <td>1.000000</td>\n",
              "      <td>0.000000</td>\n",
              "      <td>1.000000</td>\n",
              "    </tr>\n",
              "    <tr>\n",
              "      <th>75%</th>\n",
              "      <td>2.000000</td>\n",
              "      <td>2.000000</td>\n",
              "      <td>0.000000</td>\n",
              "      <td>1.000000</td>\n",
              "      <td>1.000000</td>\n",
              "      <td>0.000000</td>\n",
              "      <td>1.000000</td>\n",
              "    </tr>\n",
              "    <tr>\n",
              "      <th>max</th>\n",
              "      <td>4.000000</td>\n",
              "      <td>13.000000</td>\n",
              "      <td>3.000000</td>\n",
              "      <td>4.000000</td>\n",
              "      <td>4.000000</td>\n",
              "      <td>7.000000</td>\n",
              "      <td>5.000000</td>\n",
              "    </tr>\n",
              "  </tbody>\n",
              "</table>\n",
              "</div>"
            ],
            "text/plain": [
              "            traf_reg      num_lanes  ...          infra      situation\n",
              "count  395516.000000  395142.000000  ...  395150.000000  395306.000000\n",
              "mean        1.836482       1.991638  ...       0.430120       1.147094\n",
              "std         0.739864       1.260452  ...       1.337904       0.732933\n",
              "min         0.000000       0.000000  ...       0.000000       0.000000\n",
              "25%         2.000000       1.000000  ...       0.000000       1.000000\n",
              "50%         2.000000       2.000000  ...       0.000000       1.000000\n",
              "75%         2.000000       2.000000  ...       0.000000       1.000000\n",
              "max         4.000000      13.000000  ...       7.000000       5.000000\n",
              "\n",
              "[8 rows x 7 columns]"
            ]
          },
          "metadata": {
            "tags": []
          },
          "execution_count": 176
        }
      ]
    },
    {
      "cell_type": "code",
      "metadata": {
        "id": "ocnMsqvgoVsV"
      },
      "source": [
        "df.drop(['infra', 'res_lane'], axis=1, inplace=True)"
      ],
      "execution_count": 177,
      "outputs": []
    },
    {
      "cell_type": "code",
      "metadata": {
        "id": "OQIBxReRoYvC",
        "outputId": "f15012d0-93ec-4ad2-d41f-3fa03fcf3794",
        "colab": {
          "base_uri": "https://localhost:8080/"
        }
      },
      "source": [
        "df['num_lanes'].value_counts()"
      ],
      "execution_count": 178,
      "outputs": [
        {
          "output_type": "execute_result",
          "data": {
            "text/plain": [
              "2.0     217824\n",
              "0.0      50582\n",
              "1.0      49846\n",
              "4.0      34465\n",
              "3.0      30352\n",
              "6.0       6681\n",
              "5.0       3605\n",
              "8.0       1135\n",
              "7.0        387\n",
              "10.0       148\n",
              "9.0         69\n",
              "12.0        19\n",
              "11.0        18\n",
              "13.0        11\n",
              "Name: num_lanes, dtype: int64"
            ]
          },
          "metadata": {
            "tags": []
          },
          "execution_count": 178
        }
      ]
    },
    {
      "cell_type": "code",
      "metadata": {
        "id": "Y_Xp2nOBoakw",
        "outputId": "c19ee6ba-6e25-4da9-8ba1-cfe50ff4f5d6",
        "colab": {
          "base_uri": "https://localhost:8080/"
        }
      },
      "source": [
        "df.num_lanes.fillna(0, inplace=True)\n",
        "df['num_lanes'] = df['num_lanes'].apply(lambda x: 2 if x>6 or x==0 else x)\n",
        "df.num_lanes.value_counts()"
      ],
      "execution_count": 179,
      "outputs": [
        {
          "output_type": "execute_result",
          "data": {
            "text/plain": [
              "2.0    271295\n",
              "1.0     49846\n",
              "4.0     34465\n",
              "3.0     30352\n",
              "6.0      6681\n",
              "5.0      3605\n",
              "Name: num_lanes, dtype: int64"
            ]
          },
          "metadata": {
            "tags": []
          },
          "execution_count": 179
        }
      ]
    },
    {
      "cell_type": "code",
      "metadata": {
        "id": "p5MrZroRl20I"
      },
      "source": [
        "df.dropna(inplace=True)"
      ],
      "execution_count": 180,
      "outputs": []
    },
    {
      "cell_type": "code",
      "metadata": {
        "id": "BahkZhvJmQxA",
        "outputId": "786ccd91-49f5-4bf2-9b33-af7274f207c1",
        "colab": {
          "base_uri": "https://localhost:8080/"
        }
      },
      "source": [
        "df.isna().sum()"
      ],
      "execution_count": 163,
      "outputs": [
        {
          "output_type": "execute_result",
          "data": {
            "text/plain": [
              "ID           0\n",
              "time         0\n",
              "lum          0\n",
              "agg          0\n",
              "int          0\n",
              "atm          0\n",
              "col          0\n",
              "dep          0\n",
              "road_cat     0\n",
              "traf_reg     0\n",
              "num_lanes    0\n",
              "long_prof    0\n",
              "shape        0\n",
              "surf         0\n",
              "situation    0\n",
              "school       0\n",
              "crit_age     0\n",
              "ped          0\n",
              "dead_age     0\n",
              "num_us       0\n",
              "sev          0\n",
              "date         0\n",
              "weekend      0\n",
              "holiday      0\n",
              "dtype: int64"
            ]
          },
          "metadata": {
            "tags": []
          },
          "execution_count": 163
        }
      ]
    },
    {
      "cell_type": "code",
      "metadata": {
        "id": "vJV7U2ieqfK7",
        "outputId": "25cade1c-c5a2-40db-e9d9-b30bbc754960",
        "colab": {
          "base_uri": "https://localhost:8080/"
        }
      },
      "source": [
        "df['dep'].describe()"
      ],
      "execution_count": 185,
      "outputs": [
        {
          "output_type": "execute_result",
          "data": {
            "text/plain": [
              "count    298505.000000\n",
              "mean          5.308099\n",
              "std           2.936491\n",
              "min           0.000000\n",
              "25%           3.000000\n",
              "50%           6.000000\n",
              "75%           8.000000\n",
              "max           9.000000\n",
              "Name: dep, dtype: float64"
            ]
          },
          "metadata": {
            "tags": []
          },
          "execution_count": 185
        }
      ]
    },
    {
      "cell_type": "code",
      "metadata": {
        "id": "edwlXwGYdS6x"
      },
      "source": [
        "df[\"dep\"] = df[\"dep\"].div(10).apply(np.floor)\n",
        "df[\"dep\"] = df[\"dep\"].astype(int)"
      ],
      "execution_count": 184,
      "outputs": []
    },
    {
      "cell_type": "code",
      "metadata": {
        "id": "nlGBB5kQvRWE",
        "outputId": "51b3d286-530f-415f-eff8-9a02c3e4a891",
        "colab": {
          "base_uri": "https://localhost:8080/"
        }
      },
      "source": [
        "df.info()"
      ],
      "execution_count": 186,
      "outputs": [
        {
          "output_type": "stream",
          "text": [
            "<class 'pandas.core.frame.DataFrame'>\n",
            "Int64Index: 298505 entries, 0 to 299718\n",
            "Data columns (total 24 columns):\n",
            " #   Column     Non-Null Count   Dtype  \n",
            "---  ------     --------------   -----  \n",
            " 0   ID         298505 non-null  int64  \n",
            " 1   time       298505 non-null  float64\n",
            " 2   lum        298505 non-null  int64  \n",
            " 3   agg        298505 non-null  int64  \n",
            " 4   int        298505 non-null  int64  \n",
            " 5   atm        298505 non-null  float64\n",
            " 6   col        298505 non-null  float64\n",
            " 7   dep        298505 non-null  int64  \n",
            " 8   road_cat   298505 non-null  int64  \n",
            " 9   traf_reg   298505 non-null  float64\n",
            " 10  num_lanes  298505 non-null  float64\n",
            " 11  long_prof  298505 non-null  float64\n",
            " 12  shape      298505 non-null  float64\n",
            " 13  surf       298505 non-null  float64\n",
            " 14  situation  298505 non-null  float64\n",
            " 15  school     298505 non-null  float64\n",
            " 16  crit_age   298505 non-null  float64\n",
            " 17  ped        298505 non-null  float64\n",
            " 18  dead_age   298505 non-null  float64\n",
            " 19  num_us     298505 non-null  float64\n",
            " 20  sev        298505 non-null  float64\n",
            " 21  date       298505 non-null  object \n",
            " 22  weekend    298505 non-null  int64  \n",
            " 23  holiday    298505 non-null  float64\n",
            "dtypes: float64(16), int64(7), object(1)\n",
            "memory usage: 56.9+ MB\n"
          ],
          "name": "stdout"
        }
      ]
    },
    {
      "cell_type": "code",
      "metadata": {
        "id": "Hd5_oP0nofF4",
        "outputId": "f7edca66-e359-4dba-85d5-67581a91ee48",
        "colab": {
          "base_uri": "https://localhost:8080/",
          "height": 422
        }
      },
      "source": [
        "df['traf_reg'].hist(alpha=0.5, rwidth=0.35, align='left', figsize=(12,6), label='traf_reg')\n",
        "df['long_prof'].hist(alpha=0.5,rwidth=0.35, align='left', label='long_prof')\n",
        "df['shape'].hist(alpha=0.5,rwidth=0.35, align='mid', label='shape')\n",
        "df['situation'].hist(alpha=0.5,rwidth=0.35, align='mid', label='situation')\n",
        "plt.title('Frequency of the values in 4 different features', size=12)\n",
        "plt.xticks(range(6))\n",
        "plt.xlabel('Value')\n",
        "plt.ylabel('Frequency')\n",
        "plt.legend()"
      ],
      "execution_count": 187,
      "outputs": [
        {
          "output_type": "execute_result",
          "data": {
            "text/plain": [
              "<matplotlib.legend.Legend at 0x7f9f37c7d6d8>"
            ]
          },
          "metadata": {
            "tags": []
          },
          "execution_count": 187
        },
        {
          "output_type": "display_data",
          "data": {
            "image/png": "[encoded data removed]",
            "text/plain": [
              "<Figure size 864x432 with 1 Axes>"
            ]
          },
          "metadata": {
            "tags": [],
            "needs_background": "light"
          }
        }
      ]
    },
    {
      "cell_type": "code",
      "metadata": {
        "id": "rOO5zn0eoiN8"
      },
      "source": [
        "df['traf_reg'].fillna(0, inplace=True)\n",
        "df['traf_reg'] = df['traf_reg'].replace(0,2)\n",
        "\n",
        "df['long_prof'].fillna(0, inplace=True)\n",
        "df['long_prof'] = df['long_prof'].replace(0,1)\n",
        "\n",
        "df['shape'].fillna(0, inplace=True)\n",
        "df['shape'] = df['shape'].replace(0,1)\n",
        "\n",
        "df['situation'].fillna(0, inplace=True)\n",
        "df['situation'] = df['situation'].replace(0,1)"
      ],
      "execution_count": 188,
      "outputs": []
    },
    {
      "cell_type": "code",
      "metadata": {
        "id": "FCuF8YqNoi-7",
        "outputId": "c345c4bd-7911-4821-d4fa-8481c4ea6091",
        "colab": {
          "base_uri": "https://localhost:8080/",
          "height": 299
        }
      },
      "source": [
        "df.school.describe(), df.school.hist()\n",
        "plt.title('School feature values')"
      ],
      "execution_count": 189,
      "outputs": [
        {
          "output_type": "execute_result",
          "data": {
            "text/plain": [
              "Text(0.5, 1.0, 'School feature values')"
            ]
          },
          "metadata": {
            "tags": []
          },
          "execution_count": 189
        },
        {
          "output_type": "display_data",
          "data": {
            "image/png": "[encoded data removed]",
            "text/plain": [
              "<Figure size 432x288 with 1 Axes>"
            ]
          },
          "metadata": {
            "tags": [],
            "needs_background": "light"
          }
        }
      ]
    },
    {
      "cell_type": "code",
      "metadata": {
        "id": "VrbLZixa3cN1"
      },
      "source": [
        ""
      ],
      "execution_count": 189,
      "outputs": []
    },
    {
      "cell_type": "code",
      "metadata": {
        "id": "v6atMGMgom9D"
      },
      "source": [
        "df.school.fillna(0, inplace=True)\n",
        "df['school'] = df.school.apply(lambda x:1 if x>0 else 0)"
      ],
      "execution_count": 190,
      "outputs": []
    },
    {
      "cell_type": "code",
      "metadata": {
        "id": "cAl3kQU9Y0T7",
        "outputId": "c2d8d423-b5e0-4f90-dcd0-b84d83fc1be5",
        "colab": {
          "base_uri": "https://localhost:8080/"
        }
      },
      "source": [
        "df.info()"
      ],
      "execution_count": 191,
      "outputs": [
        {
          "output_type": "stream",
          "text": [
            "<class 'pandas.core.frame.DataFrame'>\n",
            "Int64Index: 298505 entries, 0 to 299718\n",
            "Data columns (total 24 columns):\n",
            " #   Column     Non-Null Count   Dtype  \n",
            "---  ------     --------------   -----  \n",
            " 0   ID         298505 non-null  int64  \n",
            " 1   time       298505 non-null  float64\n",
            " 2   lum        298505 non-null  int64  \n",
            " 3   agg        298505 non-null  int64  \n",
            " 4   int        298505 non-null  int64  \n",
            " 5   atm        298505 non-null  float64\n",
            " 6   col        298505 non-null  float64\n",
            " 7   dep        298505 non-null  int64  \n",
            " 8   road_cat   298505 non-null  int64  \n",
            " 9   traf_reg   298505 non-null  float64\n",
            " 10  num_lanes  298505 non-null  float64\n",
            " 11  long_prof  298505 non-null  float64\n",
            " 12  shape      298505 non-null  float64\n",
            " 13  surf       298505 non-null  float64\n",
            " 14  situation  298505 non-null  float64\n",
            " 15  school     298505 non-null  int64  \n",
            " 16  crit_age   298505 non-null  float64\n",
            " 17  ped        298505 non-null  float64\n",
            " 18  dead_age   298505 non-null  float64\n",
            " 19  num_us     298505 non-null  float64\n",
            " 20  sev        298505 non-null  float64\n",
            " 21  date       298505 non-null  object \n",
            " 22  weekend    298505 non-null  int64  \n",
            " 23  holiday    298505 non-null  float64\n",
            "dtypes: float64(15), int64(8), object(1)\n",
            "memory usage: 56.9+ MB\n"
          ],
          "name": "stdout"
        }
      ]
    },
    {
      "cell_type": "markdown",
      "metadata": {
        "id": "AFd3sQiqo4Yl"
      },
      "source": [
        "## 3.EDA\n",
        "This section is aiming to gain a better understanding of the data summarizing the main characteristics as well as uncovering importan relationships of the features with the severity of an accident."
      ]
    },
    {
      "cell_type": "markdown",
      "metadata": {
        "id": "jlw9S8WKATyr"
      },
      "source": [
        "**Target: Severity**\n",
        "The data is almost evenly distributed on both high and low severity accidents."
      ]
    },
    {
      "cell_type": "code",
      "metadata": {
        "id": "V3huXhiForSz",
        "outputId": "c81d5fbd-5155-4682-9005-3a493c4bfa0e",
        "colab": {
          "base_uri": "https://localhost:8080/",
          "height": 314
        }
      },
      "source": [
        "df.sev.plot.hist(figsize=(4,3))\n",
        "plt.title('Target feature values')\n",
        "plt.xlabel('Severity')\n",
        "plt.ylabel('Frequency')\n",
        "print('Accidents classified in each level of severity:')\n",
        "print(df.sev.value_counts())"
      ],
      "execution_count": 192,
      "outputs": [
        {
          "output_type": "stream",
          "text": [
            "Accidents classified in each level of severity:\n",
            "0.0    167575\n",
            "1.0    130930\n",
            "Name: sev, dtype: int64\n"
          ],
          "name": "stdout"
        },
        {
          "output_type": "display_data",
          "data": {
            "image/png": "[encoded data removed]",
            "text/plain": [
              "<Figure size 288x216 with 1 Axes>"
            ]
          },
          "metadata": {
            "tags": [],
            "needs_background": "light"
          }
        }
      ]
    },
    {
      "cell_type": "markdown",
      "metadata": {
        "id": "kovz7SInpCJL"
      },
      "source": [
        "# Seasonality\n",
        "The number of traffic accidents decreased over the years from 2005 to 2013, after which the trend became stable.\\ Analyszing the yearly trend there is a seasonal pattern where the number of accidents increase around March and then again in September.\\ Regarding the day of the week there is not a significant difference between them. There is a steady trend during the week with more accidents on friday, and sunday is the day with less accident of all.\\ Lastly analyzing the accidents per hour, there are clearly two spikes, one at 8am, the time people go to work and another one between 5 and 6pm, time when people return home. The number of accidents decreases between these two spikes, nothing unusual but it proves there is a pattern here."
      ]
    },
    {
      "cell_type": "code",
      "metadata": {
        "id": "oh9kcRUoosWc",
        "outputId": "d2de83ed-a165-4028-df5a-7f28d7b28f87",
        "colab": {
          "base_uri": "https://localhost:8080/"
        }
      },
      "source": [
        "df['date'] = pd.to_datetime(df['date'], format='%Y-%m-%d')\n",
        "date = df[['ID','sev', 'date']]\n",
        "date.date"
      ],
      "execution_count": 193,
      "outputs": [
        {
          "output_type": "execute_result",
          "data": {
            "text/plain": [
              "0        2016-02-01\n",
              "1        2016-03-16\n",
              "2        2016-07-13\n",
              "3        2016-08-15\n",
              "4        2016-12-23\n",
              "            ...    \n",
              "299714   2011-09-02\n",
              "299715   2011-09-03\n",
              "299716   2011-10-05\n",
              "299717   2011-11-06\n",
              "299718   2011-11-27\n",
              "Name: date, Length: 298505, dtype: datetime64[ns]"
            ]
          },
          "metadata": {
            "tags": []
          },
          "execution_count": 193
        }
      ]
    },
    {
      "cell_type": "code",
      "metadata": {
        "id": "BfDb8HpTZKQv",
        "outputId": "acb3b37a-a293-4c8e-d9a2-17bb81bf6320",
        "colab": {
          "base_uri": "https://localhost:8080/",
          "height": 313
        }
      },
      "source": [
        "yearly = date[['year', 'ID']].groupby('year').count()\n",
        "yearly['ID'].plot.line(figsize=(10,4), marker='o', linewidth=0.5, color='orange', label='Total')\n",
        "plt.title('Accidents per year')\n",
        "plt.xticks(range(2005,2017))\n",
        "plt.xlim(2004,2017)\n",
        "plt.ylabel('Accidents')\n",
        "plt.legend()"
      ],
      "execution_count": 195,
      "outputs": [
        {
          "output_type": "execute_result",
          "data": {
            "text/plain": [
              "<matplotlib.legend.Legend at 0x7f9f37af3240>"
            ]
          },
          "metadata": {
            "tags": []
          },
          "execution_count": 195
        },
        {
          "output_type": "display_data",
          "data": {
            "image/png": "[encoded data removed]",
            "text/plain": [
              "<Figure size 720x288 with 1 Axes>"
            ]
          },
          "metadata": {
            "tags": [],
            "needs_background": "light"
          }
        }
      ]
    },
    {
      "cell_type": "code",
      "metadata": {
        "id": "edZmjqBQ9x_6",
        "outputId": "44ecc94e-104e-4469-c941-f206b954f4c0",
        "colab": {
          "base_uri": "https://localhost:8080/",
          "height": 479
        }
      },
      "source": [
        "#By month\n",
        "\n",
        "monthly = date[['month', 'ID']].groupby(['month']).count()\n",
        "monthly['high_sev'] = high_sev[['month', 'ID']].groupby(['month']).count()\n",
        "\n",
        "\n",
        "monthly['ID'].plot.bar(figsize=(14,7), alpha=0.5, color='g', label='Total accidents')\n",
        "monthly['high_sev'].plot.bar(color='r', label='Severe')\n",
        "\n",
        "plt.title('Accidents per month from 2005 to 2016')\n",
        "plt.xticks(range(13))\n",
        "plt.xlim(-1,12)\n",
        "# plt.ylim(50000,85000)\n",
        "plt.xlabel('Month')\n",
        "plt.ylabel('Accidents')\n",
        "plt.legend()"
      ],
      "execution_count": 196,
      "outputs": [
        {
          "output_type": "execute_result",
          "data": {
            "text/plain": [
              "<matplotlib.legend.Legend at 0x7f9f37a6a208>"
            ]
          },
          "metadata": {
            "tags": []
          },
          "execution_count": 196
        },
        {
          "output_type": "display_data",
          "data": {
            "image/png": "[encoded data removed]",
            "text/plain": [
              "<Figure size 1008x504 with 1 Axes>"
            ]
          },
          "metadata": {
            "tags": [],
            "needs_background": "light"
          }
        }
      ]
    },
    {
      "cell_type": "code",
      "metadata": {
        "id": "5CttrKPX909C",
        "outputId": "98bcaec5-905d-4bbd-ff0f-77ae25ed4250",
        "colab": {
          "base_uri": "https://localhost:8080/",
          "height": 310
        }
      },
      "source": [
        "\n",
        "#By day of the week\n",
        "\n",
        "weekday = date[['weekday', 'ID']].groupby('weekday').count()\n",
        "weekday['high_sev'] = high_sev[['weekday', 'ID']].groupby(['weekday']).count()\n",
        "weekday['ID'].plot.bar(figsize=(8,4), alpha=0.7, color='g', label='Total')\n",
        "weekday['high_sev'].plot.bar(color='r', label='Severe')\n",
        "\n",
        "plt.title('Accidents per day of the week from 2005 to 2016')\n",
        "plt.xticks(range(7))\n",
        "plt.xlim(-1,7)\n",
        "# plt.ylim(75000,150000)\n",
        "plt.xlabel('Weekday')\n",
        "plt.ylabel('Accidents')\n",
        "plt.legend()"
      ],
      "execution_count": 197,
      "outputs": [
        {
          "output_type": "execute_result",
          "data": {
            "text/plain": [
              "<matplotlib.legend.Legend at 0x7f9f37995908>"
            ]
          },
          "metadata": {
            "tags": []
          },
          "execution_count": 197
        },
        {
          "output_type": "display_data",
          "data": {
            "image/png": "[encoded data removed]",
            "text/plain": [
              "<Figure size 576x288 with 1 Axes>"
            ]
          },
          "metadata": {
            "tags": [],
            "needs_background": "light"
          }
        }
      ]
    },
    {
      "cell_type": "code",
      "metadata": {
        "id": "KM9axB9gBNQ1",
        "outputId": "ba27475e-63d4-42ba-9326-cff7da9e65db",
        "colab": {
          "base_uri": "https://localhost:8080/",
          "height": 435
        }
      },
      "source": [
        "\n",
        "#By hour of the day\n",
        "\n",
        "hourly = df[['ID', 'time']].groupby('time').count()\n",
        "hourly['high_sev'] = df[df.sev==1][['ID', 'time']].groupby('time').count()\n",
        "hourly['ID'].plot.bar(figsize=(12,6), alpha=0.7, color='g', label='Total')\n",
        "hourly['high_sev'].plot.bar(color='r', label='Severe')\n",
        "plt.xticks(range(24))\n",
        "plt.title('Accidents per hour from 2005 to 2016')\n",
        "plt.xlabel('Hour of the day')\n",
        "plt.ylabel('Frequency of accidents')\n",
        "plt.legend()\n",
        "# df.time.value_counts()\n",
        "# hourly.ID.value_counts()\n",
        "hourly['ID'].sum()"
      ],
      "execution_count": 198,
      "outputs": [
        {
          "output_type": "execute_result",
          "data": {
            "text/plain": [
              "298505"
            ]
          },
          "metadata": {
            "tags": []
          },
          "execution_count": 198
        },
        {
          "output_type": "display_data",
          "data": {
            "image/png": "[encoded data removed]",
            "text/plain": [
              "<Figure size 864x432 with 1 Axes>"
            ]
          },
          "metadata": {
            "tags": [],
            "needs_background": "light"
          }
        }
      ]
    },
    {
      "cell_type": "code",
      "metadata": {
        "id": "g0IeWr1nBPXo",
        "outputId": "0e0e94bd-b300-435d-ffda-a8ae6688162b",
        "colab": {
          "base_uri": "https://localhost:8080/",
          "height": 435
        }
      },
      "source": [
        "\n",
        "#Zoom in fatal accidents by hour of the day\n",
        "\n",
        "hourly['high_sev'].plot.bar(figsize=(12,6),color='r', label='Fatal')\n",
        "plt.xticks(range(24))\n",
        "plt.ylim((0,15000))\n",
        "plt.title('Fatal accidents per hour from 2005 to 2016')\n",
        "plt.xlabel('Hour of the day')\n",
        "plt.ylabel('Frequency of accidents')\n",
        "plt.legend()"
      ],
      "execution_count": 199,
      "outputs": [
        {
          "output_type": "execute_result",
          "data": {
            "text/plain": [
              "<matplotlib.legend.Legend at 0x7f9f38c47ef0>"
            ]
          },
          "metadata": {
            "tags": []
          },
          "execution_count": 199
        },
        {
          "output_type": "display_data",
          "data": {
            "image/png": "[encoded data removed]",
            "text/plain": [
              "<Figure size 864x432 with 1 Axes>"
            ]
          },
          "metadata": {
            "tags": [],
            "needs_background": "light"
          }
        }
      ]
    },
    {
      "cell_type": "markdown",
      "metadata": {
        "id": "FjEShGmvAeeK"
      },
      "source": [
        "Same as for the monthly and weekly trends, zooming on the amount of highly severe accidents by hour of the day we have quite a simliar shape as for the total amount of accidents. One aspect to highlight from the hourly trend is that the proportion of severe accidents from noon to morning is higher."
      ]
    },
    {
      "cell_type": "code",
      "metadata": {
        "id": "yAHx7KIGBkAk",
        "outputId": "8b6b48c9-1dbf-470d-b03e-aab6fe35384f",
        "colab": {
          "base_uri": "https://localhost:8080/"
        }
      },
      "source": [
        "noon_morn_severe = hourly.high_sev.loc[0:6].sum()+hourly.high_sev.loc[21:23].sum()\n",
        "day_severe = hourly.high_sev.loc[7:20].sum()\n",
        "noon_morn = hourly.ID.loc[0:6].sum()+hourly.ID.loc[21:23].sum()\n",
        "day = hourly.ID.loc[7:20].sum()\n",
        "noon_morn_prop = (noon_morn_severe/noon_morn)*100\n",
        "day_prop = (day_severe/day)*100\n",
        "print('The percentage of severe accidents from 9pm to 6am is {0:0.2f}% of the total amount of accidents ocurring between this hours,\\\n",
        "     while the percentage of deathly accidents from 7am to 8pm is {1:2.2f}%.'.format(noon_morn_prop.round(2), day_prop))"
      ],
      "execution_count": 200,
      "outputs": [
        {
          "output_type": "stream",
          "text": [
            "The percentage of severe accidents from 9pm to 6am is 49.87% of the total amount of accidents ocurring between this hours,     while the percentage of deathly accidents from 7am to 8pm is 42.61%.\n"
          ],
          "name": "stdout"
        }
      ]
    },
    {
      "cell_type": "code",
      "metadata": {
        "id": "XzR6ltb5CE72"
      },
      "source": [
        "df['month'] = df.date.dt.month\n",
        "df['day'] = df.date.dt.day"
      ],
      "execution_count": 201,
      "outputs": []
    },
    {
      "cell_type": "code",
      "metadata": {
        "id": "qqwg7qjoDNiC",
        "outputId": "f6648454-5c80-4ce6-93a0-464e1e920f0d",
        "colab": {
          "base_uri": "https://localhost:8080/"
        }
      },
      "source": [
        "df.day.value_counts"
      ],
      "execution_count": 202,
      "outputs": [
        {
          "output_type": "execute_result",
          "data": {
            "text/plain": [
              "<bound method IndexOpsMixin.value_counts of 0          1\n",
              "1         16\n",
              "2         13\n",
              "3         15\n",
              "4         23\n",
              "          ..\n",
              "299714     2\n",
              "299715     3\n",
              "299716     5\n",
              "299717     6\n",
              "299718    27\n",
              "Name: day, Length: 298505, dtype: int64>"
            ]
          },
          "metadata": {
            "tags": []
          },
          "execution_count": 202
        }
      ]
    },
    {
      "cell_type": "markdown",
      "metadata": {
        "id": "uR0jKnPlAiia"
      },
      "source": [
        "**Correlation**"
      ]
    },
    {
      "cell_type": "code",
      "metadata": {
        "id": "7F723tbyDPCL",
        "outputId": "c8b529c4-259a-40ec-fe07-3bd560f72992",
        "colab": {
          "base_uri": "https://localhost:8080/"
        }
      },
      "source": [
        "df[['sev','lum', 'agg', 'int', 'atm',\n",
        "    'col', 'dep', 'road_cat', 'traf_reg',\n",
        "    'num_lanes', 'long_prof', 'shape', 'surf', \n",
        "    'situation', 'school', 'crit_age','dead_age', 'ped',\n",
        "    'num_us', 'weekend', 'holiday', 'month', 'day']].corr()['sev'].sort_values(ascending=False)"
      ],
      "execution_count": 203,
      "outputs": [
        {
          "output_type": "execute_result",
          "data": {
            "text/plain": [
              "sev          1.000000\n",
              "shape        0.145828\n",
              "situation    0.127160\n",
              "weekend      0.080442\n",
              "traf_reg     0.076166\n",
              "long_prof    0.062362\n",
              "dead_age     0.056182\n",
              "atm          0.049897\n",
              "school       0.036776\n",
              "col          0.031455\n",
              "holiday      0.023033\n",
              "num_us       0.021974\n",
              "month        0.011373\n",
              "day          0.001660\n",
              "lum         -0.007801\n",
              "ped         -0.008030\n",
              "surf        -0.009768\n",
              "crit_age    -0.040181\n",
              "int         -0.079943\n",
              "road_cat    -0.096245\n",
              "num_lanes   -0.102613\n",
              "dep         -0.120050\n",
              "agg         -0.277293\n",
              "Name: sev, dtype: float64"
            ]
          },
          "metadata": {
            "tags": []
          },
          "execution_count": 203
        }
      ]
    },
    {
      "cell_type": "code",
      "metadata": {
        "id": "CMietF-zDWSr",
        "outputId": "b40e3d7d-5bd2-4ddc-8cb9-099466065a68",
        "colab": {
          "base_uri": "https://localhost:8080/",
          "height": 225
        }
      },
      "source": [
        "bins = np.linspace(df.atm.min(), df.atm.max(), 10)\n",
        "g = sns.FacetGrid(df, col=\"crit_age\", hue=\"sev\", palette=\"Set1\", col_wrap=2)\n",
        "g.map(plt.hist,'road_cat', bins=bins, ec=\"k\")\n",
        "g.axes[-1].legend()\n",
        "plt.show()"
      ],
      "execution_count": 204,
      "outputs": [
        {
          "output_type": "display_data",
          "data": {
            "image/png": "[encoded data removed]",
            "text/plain": [
              "<Figure size 432x216 with 2 Axes>"
            ]
          },
          "metadata": {
            "tags": [],
            "needs_background": "light"
          }
        }
      ]
    },
    {
      "cell_type": "code",
      "metadata": {
        "id": "WgAeLVstDf7Q",
        "outputId": "bbfdf3c8-e52b-40a8-b621-6e9eb27b24b2",
        "colab": {
          "base_uri": "https://localhost:8080/",
          "height": 225
        }
      },
      "source": [
        "bins = np.linspace(df.lum.min(), df.lum.max(), 10)\n",
        "g = sns.FacetGrid(df, col=\"crit_age\", hue=\"sev\", palette=\"Set1\", col_wrap=2)\n",
        "g.map(plt.hist, 'num_us', bins=bins, ec=\"k\")\n",
        "g.axes[-1].legend()\n",
        "plt.show()"
      ],
      "execution_count": 205,
      "outputs": [
        {
          "output_type": "display_data",
          "data": {
            "image/png": "[encoded data removed]",
            "text/plain": [
              "<Figure size 432x216 with 2 Axes>"
            ]
          },
          "metadata": {
            "tags": [],
            "needs_background": "light"
          }
        }
      ]
    },
    {
      "cell_type": "code",
      "metadata": {
        "id": "x97AQ5hJDjFZ",
        "outputId": "583b6508-a1b9-4b3c-e1c6-e5576383dd3d",
        "colab": {
          "base_uri": "https://localhost:8080/",
          "height": 225
        }
      },
      "source": [
        "bins = np.linspace(df.col.min(), df.col.max(), 10)\n",
        "g = sns.FacetGrid(df, col=\"crit_age\", hue=\"sev\", palette=\"Set1\", col_wrap=2)\n",
        "g.map(plt.hist, 'col', bins=bins, ec=\"k\")\n",
        "g.axes[-1].legend()\n",
        "plt.show()"
      ],
      "execution_count": 206,
      "outputs": [
        {
          "output_type": "display_data",
          "data": {
            "image/png": "[encoded data removed]",
            "text/plain": [
              "<Figure size 432x216 with 2 Axes>"
            ]
          },
          "metadata": {
            "tags": [],
            "needs_background": "light"
          }
        }
      ]
    },
    {
      "cell_type": "code",
      "metadata": {
        "id": "yOWYyG3eDkuq",
        "outputId": "43212801-3104-4412-905f-4d572aed11a4",
        "colab": {
          "base_uri": "https://localhost:8080/",
          "height": 225
        }
      },
      "source": [
        "bins = np.linspace(df.surf.min(), df.surf.max(), 10)\n",
        "g = sns.FacetGrid(df, col=\"crit_age\", hue=\"sev\", palette=\"Set1\", col_wrap=2)\n",
        "g.map(plt.hist, 'surf', bins=bins, ec=\"k\")\n",
        "g.axes[-1].legend()\n",
        "plt.show()"
      ],
      "execution_count": 207,
      "outputs": [
        {
          "output_type": "display_data",
          "data": {
            "image/png": "[encoded data removed]",
            "text/plain": [
              "<Figure size 432x216 with 2 Axes>"
            ]
          },
          "metadata": {
            "tags": [],
            "needs_background": "light"
          }
        }
      ]
    },
    {
      "cell_type": "code",
      "metadata": {
        "id": "80AlR98ZDnFO",
        "outputId": "251be8fa-0c5a-44f7-e3ca-c77ae3e3ce35",
        "colab": {
          "base_uri": "https://localhost:8080/",
          "height": 313
        }
      },
      "source": [
        "df['sev'][df['dead_age']==1].plot.hist(color='r')\n",
        "# plt.xlabel('Hour of the day')\n",
        "plt.title('Accident severity for poeple above 84 y.o.')\n",
        "plt.xlabel('Severity')"
      ],
      "execution_count": 208,
      "outputs": [
        {
          "output_type": "execute_result",
          "data": {
            "text/plain": [
              "Text(0.5, 0, 'Severity')"
            ]
          },
          "metadata": {
            "tags": []
          },
          "execution_count": 208
        },
        {
          "output_type": "display_data",
          "data": {
            "image/png": "[encoded data removed]",
            "text/plain": [
              "<Figure size 432x288 with 1 Axes>"
            ]
          },
          "metadata": {
            "tags": [],
            "needs_background": "light"
          }
        }
      ]
    },
    {
      "cell_type": "code",
      "metadata": {
        "id": "n_PMM8vgDpX2",
        "outputId": "39c193f1-b455-43d4-cbf6-784c23cc0248",
        "colab": {
          "base_uri": "https://localhost:8080/",
          "height": 313
        }
      },
      "source": [
        "df['sev'][df['dead_age']==0].plot.hist()\n",
        "plt.title('Accident severity for poeple under 84 y.o.')\n",
        "plt.xlabel('Severity')"
      ],
      "execution_count": 209,
      "outputs": [
        {
          "output_type": "execute_result",
          "data": {
            "text/plain": [
              "Text(0.5, 0, 'Severity')"
            ]
          },
          "metadata": {
            "tags": []
          },
          "execution_count": 209
        },
        {
          "output_type": "display_data",
          "data": {
            "image/png": "[encoded data removed]",
            "text/plain": [
              "<Figure size 432x288 with 1 Axes>"
            ]
          },
          "metadata": {
            "tags": [],
            "needs_background": "light"
          }
        }
      ]
    },
    {
      "cell_type": "markdown",
      "metadata": {
        "id": "qxYTzGvaAsXZ"
      },
      "source": [
        "From the correlation of each feature individualy with the severity, there is not a significant correlation in any of the cases. However, from the plots above we can say that gathering together some combinations of the features, these combinations could be classified in the different severity categories."
      ]
    },
    {
      "cell_type": "markdown",
      "metadata": {
        "id": "uiE8jg5qcTEh"
      },
      "source": [
        "# **4. Data Preparation**\n"
      ]
    },
    {
      "cell_type": "markdown",
      "metadata": {
        "id": "G92HpjpvcYZi"
      },
      "source": [
        "Step right before the model development. The data preparation consists on the normalization and the train/test/validation split. Also the models I will use to predict the severity of an accident do not handel categorical variables so date some features will be dropped for now."
      ]
    },
    {
      "cell_type": "code",
      "metadata": {
        "id": "NnnhZWmwDrNq"
      },
      "source": [
        "df.drop(['ID', 'date'], axis=1, inplace=True)"
      ],
      "execution_count": 210,
      "outputs": []
    },
    {
      "cell_type": "code",
      "metadata": {
        "id": "wsaW12Dkcb41",
        "outputId": "482fb68e-3414-4206-82fe-493da904e911",
        "colab": {
          "base_uri": "https://localhost:8080/"
        }
      },
      "source": [
        "\n",
        "#Some feature's values range from 1 to 9 while others just go either for 1 or 2, \n",
        "#Normalizing the data makes that any feature has more influence in the result than others.\n",
        "\n",
        "from sklearn.preprocessing import StandardScaler\n",
        "from sklearn.model_selection import train_test_split\n",
        "\n",
        "# X = df.drop('sev', axis=1)\n",
        "# X = StandardScaler().fit(X).transform(X)\n",
        "\n",
        "xtrain, xtest, ytrain, ytest = train_test_split(df.drop('sev', axis=1), df['sev'], test_size=0.2, random_state=8)\n",
        "xtrain, xval, ytrain, yval = train_test_split(xtrain, ytrain, test_size=0.2) \n",
        "\n",
        "\n",
        "print('Size of training set:', xtrain.shape[0],'\\n'\n",
        "      'Size of test set:',xtest.shape[0],'\\n'\n",
        "      'Size of evaluation set:', xval.shape[0])"
      ],
      "execution_count": 211,
      "outputs": [
        {
          "output_type": "stream",
          "text": [
            "Size of training set: 191043 \n",
            "Size of test set: 59701 \n",
            "Size of evaluation set: 47761\n"
          ],
          "name": "stdout"
        }
      ]
    },
    {
      "cell_type": "markdown",
      "metadata": {
        "id": "RsZdqdG2cgEg"
      },
      "source": [
        "# **5. Model Develoment**"
      ]
    },
    {
      "cell_type": "code",
      "metadata": {
        "id": "iiW3_JdLcd7J"
      },
      "source": [
        "\n",
        "#importing models \n",
        "\n",
        "from sklearn.tree import DecisionTreeClassifier\n",
        "from sklearn.ensemble import RandomForestClassifier\n",
        "from sklearn.linear_model import LogisticRegression\n",
        "from sklearn.neighbors import KNeighborsClassifier\n",
        "from sklearn.svm import SVC\n",
        "\n",
        "#Evaluation Metrics\n",
        "import time\n",
        "from sklearn.metrics import accuracy_score, log_loss, jaccard_similarity_score, classification_report\n",
        "from sklearn.metrics import precision_score, recall_score, roc_curve"
      ],
      "execution_count": 212,
      "outputs": []
    },
    {
      "cell_type": "markdown",
      "metadata": {
        "id": "-gAda_dzcon2"
      },
      "source": [
        "### **1. Decision Tree**"
      ]
    },
    {
      "cell_type": "code",
      "metadata": {
        "id": "3Me5PUKMnMga",
        "outputId": "82de07c6-2d65-461a-bc18-bf78da0cec26",
        "colab": {
          "base_uri": "https://localhost:8080/"
        }
      },
      "source": [
        "type(xtrain)"
      ],
      "execution_count": 213,
      "outputs": [
        {
          "output_type": "execute_result",
          "data": {
            "text/plain": [
              "pandas.core.frame.DataFrame"
            ]
          },
          "metadata": {
            "tags": []
          },
          "execution_count": 213
        }
      ]
    },
    {
      "cell_type": "code",
      "metadata": {
        "id": "L7T4UmmTclmp",
        "outputId": "cd236b8c-2ece-4847-d76a-72fd698d238f",
        "colab": {
          "base_uri": "https://localhost:8080/"
        }
      },
      "source": [
        "t0=time.time()\n",
        "tree = DecisionTreeClassifier(criterion='entropy')\n",
        "tree.fit(xtrain,ytrain)\n",
        "print('Time taken :' , time.time()-t0)\n",
        "yhat = tree.predict(xval)\n",
        "score_tree = accuracy_score(yval,yhat)\n",
        "print('Accuracy :',score_tree)"
      ],
      "execution_count": 214,
      "outputs": [
        {
          "output_type": "stream",
          "text": [
            "Time taken : 1.9909393787384033\n",
            "Accuracy : 0.6262012939427566\n"
          ],
          "name": "stdout"
        }
      ]
    },
    {
      "cell_type": "markdown",
      "metadata": {
        "id": "Vn-a3WMuqBUW"
      },
      "source": [
        "### **1.1. Random Forest**\n",
        "  To go a bit further I will develop a Random Forest model. A random forest fits a number of decision tree classifiers on various sub-samples of the dataset and uses averaging to improve the predictive accuracy and control over-fitting. The number of decision trees is specified with the n_estimators parameter.\\ An upside of this algorithm is its feature_importances_ atribut, it returns the impurity based feature importance."
      ]
    },
    {
      "cell_type": "code",
      "metadata": {
        "id": "js6QxzFwqJmB",
        "outputId": "95c06b62-0854-4cb8-d4c2-792cde154695",
        "colab": {
          "base_uri": "https://localhost:8080/"
        }
      },
      "source": [
        "#RF 1\n",
        "\n",
        "t0=time.time()\n",
        "model_rf = RandomForestClassifier(n_estimators=100,criterion='entropy',random_state=0, n_jobs=-1)\n",
        "model_rf.fit(xtrain,ytrain)\n",
        "print('Time taken :' , time.time()-t0)\n",
        "yhat = model_rf.predict(xval)\n",
        "score_rf = accuracy_score(yval,yhat)\n",
        "print('Accuracy :',score_rf)"
      ],
      "execution_count": 215,
      "outputs": [
        {
          "output_type": "stream",
          "text": [
            "Time taken : 28.46190118789673\n",
            "Accuracy : 0.7200435501769226\n"
          ],
          "name": "stdout"
        }
      ]
    },
    {
      "cell_type": "code",
      "metadata": {
        "id": "x99RaA3XqSRY",
        "outputId": "cdd3e67c-85bd-46c2-96d5-84715f208828",
        "colab": {
          "base_uri": "https://localhost:8080/",
          "height": 768
        }
      },
      "source": [
        "importances = pd.DataFrame({'feature':df.drop('sev', axis=1).columns,'importance':np.round(model_rf.feature_importances_,3)})\n",
        "importances = importances.sort_values('importance',ascending=False).set_index('feature')\n",
        "importances"
      ],
      "execution_count": 216,
      "outputs": [
        {
          "output_type": "execute_result",
          "data": {
            "text/html": [
              "<div>\n",
              "<style scoped>\n",
              "    .dataframe tbody tr th:only-of-type {\n",
              "        vertical-align: middle;\n",
              "    }\n",
              "\n",
              "    .dataframe tbody tr th {\n",
              "        vertical-align: top;\n",
              "    }\n",
              "\n",
              "    .dataframe thead th {\n",
              "        text-align: right;\n",
              "    }\n",
              "</style>\n",
              "<table border=\"1\" class=\"dataframe\">\n",
              "  <thead>\n",
              "    <tr style=\"text-align: right;\">\n",
              "      <th></th>\n",
              "      <th>importance</th>\n",
              "    </tr>\n",
              "    <tr>\n",
              "      <th>feature</th>\n",
              "      <th></th>\n",
              "    </tr>\n",
              "  </thead>\n",
              "  <tbody>\n",
              "    <tr>\n",
              "      <th>day</th>\n",
              "      <td>0.150</td>\n",
              "    </tr>\n",
              "    <tr>\n",
              "      <th>time</th>\n",
              "      <td>0.126</td>\n",
              "    </tr>\n",
              "    <tr>\n",
              "      <th>month</th>\n",
              "      <td>0.110</td>\n",
              "    </tr>\n",
              "    <tr>\n",
              "      <th>dep</th>\n",
              "      <td>0.091</td>\n",
              "    </tr>\n",
              "    <tr>\n",
              "      <th>road_cat</th>\n",
              "      <td>0.059</td>\n",
              "    </tr>\n",
              "    <tr>\n",
              "      <th>col</th>\n",
              "      <td>0.051</td>\n",
              "    </tr>\n",
              "    <tr>\n",
              "      <th>num_us</th>\n",
              "      <td>0.047</td>\n",
              "    </tr>\n",
              "    <tr>\n",
              "      <th>num_lanes</th>\n",
              "      <td>0.040</td>\n",
              "    </tr>\n",
              "    <tr>\n",
              "      <th>agg</th>\n",
              "      <td>0.036</td>\n",
              "    </tr>\n",
              "    <tr>\n",
              "      <th>int</th>\n",
              "      <td>0.036</td>\n",
              "    </tr>\n",
              "    <tr>\n",
              "      <th>traf_reg</th>\n",
              "      <td>0.033</td>\n",
              "    </tr>\n",
              "    <tr>\n",
              "      <th>lum</th>\n",
              "      <td>0.029</td>\n",
              "    </tr>\n",
              "    <tr>\n",
              "      <th>atm</th>\n",
              "      <td>0.027</td>\n",
              "    </tr>\n",
              "    <tr>\n",
              "      <th>long_prof</th>\n",
              "      <td>0.025</td>\n",
              "    </tr>\n",
              "    <tr>\n",
              "      <th>crit_age</th>\n",
              "      <td>0.024</td>\n",
              "    </tr>\n",
              "    <tr>\n",
              "      <th>surf</th>\n",
              "      <td>0.024</td>\n",
              "    </tr>\n",
              "    <tr>\n",
              "      <th>school</th>\n",
              "      <td>0.020</td>\n",
              "    </tr>\n",
              "    <tr>\n",
              "      <th>shape</th>\n",
              "      <td>0.020</td>\n",
              "    </tr>\n",
              "    <tr>\n",
              "      <th>weekend</th>\n",
              "      <td>0.017</td>\n",
              "    </tr>\n",
              "    <tr>\n",
              "      <th>situation</th>\n",
              "      <td>0.016</td>\n",
              "    </tr>\n",
              "    <tr>\n",
              "      <th>ped</th>\n",
              "      <td>0.010</td>\n",
              "    </tr>\n",
              "    <tr>\n",
              "      <th>dead_age</th>\n",
              "      <td>0.005</td>\n",
              "    </tr>\n",
              "    <tr>\n",
              "      <th>holiday</th>\n",
              "      <td>0.005</td>\n",
              "    </tr>\n",
              "  </tbody>\n",
              "</table>\n",
              "</div>"
            ],
            "text/plain": [
              "           importance\n",
              "feature              \n",
              "day             0.150\n",
              "time            0.126\n",
              "month           0.110\n",
              "dep             0.091\n",
              "road_cat        0.059\n",
              "col             0.051\n",
              "num_us          0.047\n",
              "num_lanes       0.040\n",
              "agg             0.036\n",
              "int             0.036\n",
              "traf_reg        0.033\n",
              "lum             0.029\n",
              "atm             0.027\n",
              "long_prof       0.025\n",
              "crit_age        0.024\n",
              "surf            0.024\n",
              "school          0.020\n",
              "shape           0.020\n",
              "weekend         0.017\n",
              "situation       0.016\n",
              "ped             0.010\n",
              "dead_age        0.005\n",
              "holiday         0.005"
            ]
          },
          "metadata": {
            "tags": []
          },
          "execution_count": 216
        }
      ]
    },
    {
      "cell_type": "markdown",
      "metadata": {
        "id": "XznQaUkNqWjF"
      },
      "source": [
        "\n",
        "The goal will now be to improve the accuracy and running time of the model thanks to feature selection and hyperparameter tuning. So I will drop the 10 least important features and run the model again."
      ]
    },
    {
      "cell_type": "code",
      "metadata": {
        "id": "mdM8g26SqUOC"
      },
      "source": [
        "xtrain = pd.DataFrame(xtrain)\n",
        "xtrain.drop(['dead_age', 'holiday', 'ped', 'situation', 'weekend', 'school', 'shape', 'crit_age', 'surf', 'long_prof','lum','atm'], axis=1, inplace=True)\n",
        "xval.drop(['dead_age', 'holiday', 'ped', 'situation', 'weekend', 'school', 'shape', 'crit_age', 'surf', 'long_prof', 'lum', 'atm'], axis=1, inplace=True)\n",
        "xtest.drop(['dead_age', 'holiday', 'ped', 'situation', 'weekend', 'school', 'shape', 'crit_age','surf', 'long_prof', 'lum', 'atm'], axis=1, inplace=True)"
      ],
      "execution_count": 217,
      "outputs": []
    },
    {
      "cell_type": "code",
      "metadata": {
        "id": "NRhcxVXiqZbq",
        "outputId": "a1a0ef90-f390-427d-ba95-c41857ef1794",
        "colab": {
          "base_uri": "https://localhost:8080/"
        }
      },
      "source": [
        "#RF 2:\n",
        "#number of features reduced from 23 to 13\n",
        "\n",
        "t0=time.time()\n",
        "model_rf = RandomForestClassifier(n_estimators=100,criterion='entropy',random_state=0, n_jobs=-1)\n",
        "model_rf.fit(xtrain,ytrain)\n",
        "print('Time taken :' , time.time()-t0)\n",
        "yhat = model_rf.predict(xval)\n",
        "score_rf = accuracy_score(yval,yhat)\n",
        "print('Accuracy :',score_rf)"
      ],
      "execution_count": 218,
      "outputs": [
        {
          "output_type": "stream",
          "text": [
            "Time taken : 25.5152428150177\n",
            "Accuracy : 0.6970750193672661\n"
          ],
          "name": "stdout"
        }
      ]
    },
    {
      "cell_type": "code",
      "metadata": {
        "id": "FSc3QUnAqdJu",
        "outputId": "52b505e9-1ddc-40fa-fd3c-0cd16b381582",
        "colab": {
          "base_uri": "https://localhost:8080/"
        }
      },
      "source": [
        "#RF 3:\n",
        "\n",
        "#number of decision trees reduced from 100 to 50\n",
        "#Limiting the number of features to look at when creating the next split to 5\n",
        "#Limiting the max depth of the tree to 10\n",
        "\n",
        "\n",
        "t0=time.time()\n",
        "model_rf = RandomForestClassifier(n_estimators=50, max_features=5, max_depth =10 ,criterion='entropy',random_state=0, n_jobs=-1)\n",
        "model_rf.fit(xtrain,ytrain)\n",
        "print('Time taken :' , time.time()-t0)\n",
        "yhat = model_rf.predict(xval)\n",
        "score_rf = accuracy_score(yval,yhat)\n",
        "print('Accuracy :',score_rf)"
      ],
      "execution_count": 219,
      "outputs": [
        {
          "output_type": "stream",
          "text": [
            "Time taken : 7.858509302139282\n",
            "Accuracy : 0.7186197943929147\n"
          ],
          "name": "stdout"
        }
      ]
    },
    {
      "cell_type": "code",
      "metadata": {
        "id": "5232kNgfqf1o",
        "outputId": "0606ac63-6241-4d75-e7c4-20b2e51fecd4",
        "colab": {
          "base_uri": "https://localhost:8080/"
        }
      },
      "source": [
        "#RF 4:\n",
        "\n",
        "#number of decision trees reduced from 50 to 10\n",
        "#Limiting the number of features to look at when creating the next split to 8\n",
        "#Limiting the max depth of the tree to 12\n",
        "\n",
        "\n",
        "t0=time.time()\n",
        "model_rf = RandomForestClassifier(n_estimators=10, max_features=8, max_depth =12,criterion='entropy',random_state=0, n_jobs=-1)\n",
        "model_rf.fit(xtrain,ytrain)\n",
        "print('Time taken :' , time.time()-t0)\n",
        "yhat = model_rf.predict(xval)\n",
        "score_rf = accuracy_score(yval,yhat)\n",
        "print('Accuracy :',score_rf)"
      ],
      "execution_count": 220,
      "outputs": [
        {
          "output_type": "stream",
          "text": [
            "Time taken : 2.643932342529297\n",
            "Accuracy : 0.7182847930319717\n"
          ],
          "name": "stdout"
        }
      ]
    },
    {
      "cell_type": "code",
      "metadata": {
        "id": "8YXa5LiyqjKf",
        "outputId": "1dc1ee92-24c6-4a7f-8fc3-ada2884de6c8",
        "colab": {
          "base_uri": "https://localhost:8080/"
        }
      },
      "source": [
        "#Evaluation\n",
        "\n",
        "t0=time.time()\n",
        "model_rf = RandomForestClassifier(n_estimators=10, max_features=8, max_depth =12,criterion='entropy',random_state=0, n_jobs=-1)\n",
        "model_rf.fit(xtrain,ytrain)\n",
        "t_rf = time.time()-t0\n",
        "print('Time taken :' , t_rf)\n",
        "yhat_rf = model_rf.predict(xtest)\n",
        "jaccard_rf = jaccard_similarity_score(ytest,yhat_rf)\n",
        "c_rf = classification_report(ytest,yhat_rf)\n",
        "prec_rf = precision_score(ytest, yhat_rf)\n",
        "rec_rf = recall_score(ytest, yhat_rf)\n",
        "print('Jaccard :',jaccard_rf,'\\n',\n",
        "     c_rf)"
      ],
      "execution_count": 222,
      "outputs": [
        {
          "output_type": "stream",
          "text": [
            "Time taken : 2.640620470046997\n",
            "Jaccard : 0.7150466491348554 \n",
            "               precision    recall  f1-score   support\n",
            "\n",
            "         0.0       0.71      0.84      0.77     33685\n",
            "         1.0       0.73      0.56      0.63     26016\n",
            "\n",
            "    accuracy                           0.72     59701\n",
            "   macro avg       0.72      0.70      0.70     59701\n",
            "weighted avg       0.72      0.72      0.71     59701\n",
            "\n"
          ],
          "name": "stdout"
        }
      ]
    },
    {
      "cell_type": "markdown",
      "metadata": {
        "id": "PbYKlw2txHal"
      },
      "source": [
        "\n",
        "### **2. LogisticRegression**\n",
        "First I'll look for the best regularization coeficient then I creat the model."
      ]
    },
    {
      "cell_type": "code",
      "metadata": {
        "id": "VciDy1eYqlLS",
        "outputId": "f432e6ba-0ad7-460e-e4ec-24fa06d6d08f",
        "colab": {
          "base_uri": "https://localhost:8080/"
        }
      },
      "source": [
        "acc=np.zeros(6)\n",
        "i=0\n",
        "for c in [0.5, 0.1, 0.01, 0.001, 10, 100]:\n",
        "    lr = LogisticRegression(C=c, solver='liblinear').fit(xtrain, ytrain)\n",
        "    yhat = lr.predict(xval)\n",
        "    acc[i] = accuracy_score(yval,yhat)\n",
        "    i+=1\n",
        "acc"
      ],
      "execution_count": 223,
      "outputs": [
        {
          "output_type": "execute_result",
          "data": {
            "text/plain": [
              "array([0.66470551, 0.66468458, 0.66541739, 0.66604552, 0.6646427 ,\n",
              "       0.66466364])"
            ]
          },
          "metadata": {
            "tags": []
          },
          "execution_count": 223
        }
      ]
    },
    {
      "cell_type": "code",
      "metadata": {
        "id": "ATFBsSGOxLiQ",
        "outputId": "80dd6c24-41af-44f4-c2db-4aa86500b0d6",
        "colab": {
          "base_uri": "https://localhost:8080/"
        }
      },
      "source": [
        "#Evaluation\n",
        "\n",
        "t0=time.time()\n",
        "lr = LogisticRegression(C=0.001, solver='liblinear').fit(xtrain, ytrain)\n",
        "t_lr = time.time()-t0\n",
        "print('Time taken :' , t_lr)\n",
        "yhat = lr.predict(xtest)\n",
        "jaccard_lr = jaccard_similarity_score(ytest,yhat)\n",
        "c_lr = classification_report(ytest,yhat)\n",
        "prec_lr = precision_score(ytest, yhat)\n",
        "rec_lr = recall_score(ytest, yhat)\n",
        "print('Jaccard :',jaccard_lr,'\\n',\n",
        "     c_lr)"
      ],
      "execution_count": 224,
      "outputs": [
        {
          "output_type": "stream",
          "text": [
            "Time taken : 1.3799426555633545\n",
            "Jaccard : 0.660759451265473 \n",
            "               precision    recall  f1-score   support\n",
            "\n",
            "         0.0       0.66      0.82      0.73     33685\n",
            "         1.0       0.66      0.46      0.54     26016\n",
            "\n",
            "    accuracy                           0.66     59701\n",
            "   macro avg       0.66      0.64      0.64     59701\n",
            "weighted avg       0.66      0.66      0.65     59701\n",
            "\n"
          ],
          "name": "stdout"
        }
      ]
    },
    {
      "cell_type": "markdown",
      "metadata": {
        "id": "ULEaOomixT52"
      },
      "source": [
        "### **3. KNN**\n",
        "Firstly I will search for the best performing K and then I will fit the model with the training set and evaluat it with the test set.\n",
        "Due to the size of the dataset, I will reduce the training and evaluation sets to the half of them in the process of searching for the optim K."
      ]
    },
    {
      "cell_type": "code",
      "metadata": {
        "id": "aVCp5hTwxPfK",
        "outputId": "e89d4cbf-4199-4a61-b114-9596d4b23307",
        "colab": {
          "base_uri": "https://localhost:8080/"
        }
      },
      "source": [
        "tt = xtrain.shape[0]\n",
        "tv = xval.shape[0]\n",
        "xtrain[int(tt*0.5):].shape[0], xval[int(tv*0.5):].shape[0]"
      ],
      "execution_count": 225,
      "outputs": [
        {
          "output_type": "execute_result",
          "data": {
            "text/plain": [
              "(95522, 23881)"
            ]
          },
          "metadata": {
            "tags": []
          },
          "execution_count": 225
        }
      ]
    },
    {
      "cell_type": "code",
      "metadata": {
        "id": "VyCrVYKKxXa4",
        "outputId": "283790a7-3bf5-4991-88e8-264312209c43",
        "colab": {
          "base_uri": "https://localhost:8080/"
        }
      },
      "source": [
        "ks = 17\n",
        "mean_acc = np.zeros(ks-1)\n",
        "std_acc = np.zeros(ks-1)\n",
        "\n",
        "for n in range(1,ks):\n",
        "    neigh = KNeighborsClassifier(n_neighbors = n).fit(xtrain[int(tt*0.5):],ytrain[int(tt*0.5):])\n",
        "    yhat = neigh.predict(xval[int(tv*0.5):])\n",
        "    mean_acc[n-1] = accuracy_score(yval[int(tv*0.5):],yhat)\n",
        "    std_acc[n-1] = np.std(yhat==yval[int(tv*0.5):])/np.sqrt(yhat.shape[0])\n",
        "print('Best performing K is '+ str(mean_acc.argmax()+1) + ' with an accuracy of ' +str(mean_acc.max()))"
      ],
      "execution_count": 226,
      "outputs": [
        {
          "output_type": "stream",
          "text": [
            "Best performing K is 14 with an accuracy of 0.6453666094384657\n"
          ],
          "name": "stdout"
        }
      ]
    },
    {
      "cell_type": "code",
      "metadata": {
        "id": "85qgr9BnxZ1v",
        "outputId": "f66d9e1f-c01a-4dac-a68a-e9ffabefe3a5",
        "colab": {
          "base_uri": "https://localhost:8080/",
          "height": 313
        }
      },
      "source": [
        "plt.plot(range(1,ks),mean_acc,'g')\n",
        "plt.xlabel('K')\n",
        "plt.ylabel('Accuracy')\n",
        "plt.title('Evaluation of accuracy incrementing the value of K')\n",
        "plt.fill_between(range(1,ks),mean_acc-1*std_acc,mean_acc+1*std_acc, alpha=0.1)"
      ],
      "execution_count": 227,
      "outputs": [
        {
          "output_type": "execute_result",
          "data": {
            "text/plain": [
              "<matplotlib.collections.PolyCollection at 0x7f9f3867b630>"
            ]
          },
          "metadata": {
            "tags": []
          },
          "execution_count": 227
        },
        {
          "output_type": "display_data",
          "data": {
            "image/png": "[encoded data removed]",
            "text/plain": [
              "<Figure size 432x288 with 1 Axes>"
            ]
          },
          "metadata": {
            "tags": [],
            "needs_background": "light"
          }
        }
      ]
    },
    {
      "cell_type": "code",
      "metadata": {
        "id": "KfbINx4IyHKv",
        "outputId": "850dcccb-c243-4b06-9333-ea73040255bb",
        "colab": {
          "base_uri": "https://localhost:8080/"
        }
      },
      "source": [
        "\n",
        "#Evaluation\n",
        "\n",
        "t0=time.time()\n",
        "model_knn = KNeighborsClassifier(n_neighbors = 16, n_jobs=-1)\n",
        "model_knn.fit(xtrain,ytrain)\n",
        "t_knn = time.time()-t0\n",
        "print('Time taken :' , t_knn)\n",
        "yhat = model_knn.predict(xtest)\n",
        "jaccard_knn = jaccard_similarity_score(ytest,yhat)\n",
        "c_knn = classification_report(ytest,yhat)\n",
        "prec_knn = precision_score(ytest, yhat)\n",
        "rec_knn = recall_score(ytest, yhat)\n",
        "print('Jaccard :',jaccard_knn,'\\n',\n",
        "     c_knn)"
      ],
      "execution_count": 228,
      "outputs": [
        {
          "output_type": "stream",
          "text": [
            "Time taken : 22.951329946517944\n",
            "Jaccard : 0.6609269526473593 \n",
            "               precision    recall  f1-score   support\n",
            "\n",
            "         0.0       0.67      0.79      0.73     33685\n",
            "         1.0       0.65      0.49      0.56     26016\n",
            "\n",
            "    accuracy                           0.66     59701\n",
            "   macro avg       0.66      0.64      0.64     59701\n",
            "weighted avg       0.66      0.66      0.65     59701\n",
            "\n"
          ],
          "name": "stdout"
        }
      ]
    },
    {
      "cell_type": "markdown",
      "metadata": {
        "id": "WIlWtUEZyOyb"
      },
      "source": [
        "### **4. SVM**"
      ]
    },
    {
      "cell_type": "code",
      "metadata": {
        "id": "xKUriwfFyLty"
      },
      "source": [
        "size = [1000,5000,10000,12000,15000,20000,30000,40000,50000,75000,100000]\n",
        "acc = []\n",
        "t = []\n",
        "for s in size:\n",
        "    t0=time.time()\n",
        "    sv = SVC().fit(xtrain[:s],ytrain[:s])\n",
        "    t.append(time.time()-t0)\n",
        "    yhat = sv.predict(xval[:s])\n",
        "    acc.append(jaccard_similarity_score(yval[:s],yhat))"
      ],
      "execution_count": 229,
      "outputs": []
    },
    {
      "cell_type": "code",
      "metadata": {
        "id": "p1eDAsi0ycj3",
        "outputId": "1add8698-0957-4146-d9e8-25f978e625b4",
        "colab": {
          "base_uri": "https://localhost:8080/",
          "height": 378
        }
      },
      "source": [
        "performance = pd.DataFrame({'acc':acc, 'time':t}, index=size)\n",
        "performance"
      ],
      "execution_count": 230,
      "outputs": [
        {
          "output_type": "execute_result",
          "data": {
            "text/html": [
              "<div>\n",
              "<style scoped>\n",
              "    .dataframe tbody tr th:only-of-type {\n",
              "        vertical-align: middle;\n",
              "    }\n",
              "\n",
              "    .dataframe tbody tr th {\n",
              "        vertical-align: top;\n",
              "    }\n",
              "\n",
              "    .dataframe thead th {\n",
              "        text-align: right;\n",
              "    }\n",
              "</style>\n",
              "<table border=\"1\" class=\"dataframe\">\n",
              "  <thead>\n",
              "    <tr style=\"text-align: right;\">\n",
              "      <th></th>\n",
              "      <th>acc</th>\n",
              "      <th>time</th>\n",
              "    </tr>\n",
              "  </thead>\n",
              "  <tbody>\n",
              "    <tr>\n",
              "      <th>1000</th>\n",
              "      <td>0.592000</td>\n",
              "      <td>0.053330</td>\n",
              "    </tr>\n",
              "    <tr>\n",
              "      <th>5000</th>\n",
              "      <td>0.665600</td>\n",
              "      <td>1.174052</td>\n",
              "    </tr>\n",
              "    <tr>\n",
              "      <th>10000</th>\n",
              "      <td>0.659000</td>\n",
              "      <td>4.820385</td>\n",
              "    </tr>\n",
              "    <tr>\n",
              "      <th>12000</th>\n",
              "      <td>0.658000</td>\n",
              "      <td>6.858568</td>\n",
              "    </tr>\n",
              "    <tr>\n",
              "      <th>15000</th>\n",
              "      <td>0.661067</td>\n",
              "      <td>10.808147</td>\n",
              "    </tr>\n",
              "    <tr>\n",
              "      <th>20000</th>\n",
              "      <td>0.660750</td>\n",
              "      <td>18.869860</td>\n",
              "    </tr>\n",
              "    <tr>\n",
              "      <th>30000</th>\n",
              "      <td>0.665000</td>\n",
              "      <td>42.806006</td>\n",
              "    </tr>\n",
              "    <tr>\n",
              "      <th>40000</th>\n",
              "      <td>0.662800</td>\n",
              "      <td>76.326126</td>\n",
              "    </tr>\n",
              "    <tr>\n",
              "      <th>50000</th>\n",
              "      <td>0.663617</td>\n",
              "      <td>119.146204</td>\n",
              "    </tr>\n",
              "    <tr>\n",
              "      <th>75000</th>\n",
              "      <td>0.666527</td>\n",
              "      <td>278.697635</td>\n",
              "    </tr>\n",
              "    <tr>\n",
              "      <th>100000</th>\n",
              "      <td>0.667260</td>\n",
              "      <td>514.741916</td>\n",
              "    </tr>\n",
              "  </tbody>\n",
              "</table>\n",
              "</div>"
            ],
            "text/plain": [
              "             acc        time\n",
              "1000    0.592000    0.053330\n",
              "5000    0.665600    1.174052\n",
              "10000   0.659000    4.820385\n",
              "12000   0.658000    6.858568\n",
              "15000   0.661067   10.808147\n",
              "20000   0.660750   18.869860\n",
              "30000   0.665000   42.806006\n",
              "40000   0.662800   76.326126\n",
              "50000   0.663617  119.146204\n",
              "75000   0.666527  278.697635\n",
              "100000  0.667260  514.741916"
            ]
          },
          "metadata": {
            "tags": []
          },
          "execution_count": 230
        }
      ]
    },
    {
      "cell_type": "code",
      "metadata": {
        "id": "3FSP2BYF434J",
        "outputId": "e733612f-8284-495c-dc5b-0cf872e3f62e",
        "colab": {
          "base_uri": "https://localhost:8080/",
          "height": 590
        }
      },
      "source": [
        "performance.plot(y='acc', color='r', label='accuracy')\n",
        "plt.xlabel('Samples')\n",
        "plt.ylabel('Evaluation accuracy')\n",
        "plt.title('Accuracy')\n",
        "performance.plot(y='time', color='green', label='time')\n",
        "plt.xlabel('Samples')\n",
        "plt.ylabel('Computational Time ')\n",
        "plt.title('Time(s)')"
      ],
      "execution_count": 231,
      "outputs": [
        {
          "output_type": "execute_result",
          "data": {
            "text/plain": [
              "Text(0.5, 1.0, 'Time(s)')"
            ]
          },
          "metadata": {
            "tags": []
          },
          "execution_count": 231
        },
        {
          "output_type": "display_data",
          "data": {
            "image/png": "[encoded data removed]",
            "text/plain": [
              "<Figure size 432x288 with 1 Axes>"
            ]
          },
          "metadata": {
            "tags": [],
            "needs_background": "light"
          }
        },
        {
          "output_type": "display_data",
          "data": {
            "image/png": "[encoded data removed]",
            "text/plain": [
              "<Figure size 432x288 with 1 Axes>"
            ]
          },
          "metadata": {
            "tags": [],
            "needs_background": "light"
          }
        }
      ]
    },
    {
      "cell_type": "code",
      "metadata": {
        "id": "KQGLrCZb4_ga",
        "outputId": "c374c3a4-a321-41b6-d5d6-4b2a5651e62a",
        "colab": {
          "base_uri": "https://localhost:8080/"
        }
      },
      "source": [
        "#Evaluation\n",
        "\n",
        "s=75000\n",
        "t0=time.time()\n",
        "sv = SVC().fit(xtrain[:s],ytrain[:s])\n",
        "t_svm = time.time()-t0\n",
        "print('Time taken :' , t_svm)\n",
        "yhat = sv.predict(xtest[:s])\n",
        "jaccard_svm = jaccard_similarity_score(ytest[:s],yhat)\n",
        "c_svm = classification_report(ytest[:s],yhat)\n",
        "prec_svm = precision_score(ytest[:s], yhat)\n",
        "rec_svm = recall_score(ytest[:s], yhat)\n",
        "print('Jaccard :',jaccard_lr,'\\n',\n",
        "     c_lr)"
      ],
      "execution_count": 232,
      "outputs": [
        {
          "output_type": "stream",
          "text": [
            "Time taken : 273.7080523967743\n",
            "Jaccard : 0.660759451265473 \n",
            "               precision    recall  f1-score   support\n",
            "\n",
            "         0.0       0.66      0.82      0.73     33685\n",
            "         1.0       0.66      0.46      0.54     26016\n",
            "\n",
            "    accuracy                           0.66     59701\n",
            "   macro avg       0.66      0.64      0.64     59701\n",
            "weighted avg       0.66      0.66      0.65     59701\n",
            "\n"
          ],
          "name": "stdout"
        }
      ]
    },
    {
      "cell_type": "markdown",
      "metadata": {
        "id": "Jn2AU0Bs5KNd"
      },
      "source": [
        "\n",
        "# **7. Results**"
      ]
    },
    {
      "cell_type": "markdown",
      "metadata": {
        "id": "u8bYLOpy6ucO"
      },
      "source": [
        "![Untitled.png](data:image/png;base64,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)\n"
      ]
    },
    {
      "cell_type": "markdown",
      "metadata": {
        "id": "5pkN712W6s4f"
      },
      "source": [
        "For this specific problem precision means the % of predicted severe accidents that were truly severe. The recall instead, is the % of truly severe accidents that were properly predicted. For this specific problem, the recall is more important than the precision as a high recall will favor that all required resources will be equipped up to the severity of the accident.\\ In this case, the recall is more important than the precision as a high recall will favor that all required resources will be equipped up to the severity of the accident. The logistic regression, KNN, and SVM models have similar accuracy, however the computational time from the regression is far better than the other two models. With no doubt the Random Forest is the best model, in the same time as the log. res. it improves the accuracy from 0.66 to 0.72 and the recall from 0.45 to 0.59."
      ]
    },
    {
      "cell_type": "code",
      "metadata": {
        "id": "o17bZyyx5FHe",
        "outputId": "770e517f-12bc-4dfb-a96f-47024868ffc5",
        "colab": {
          "base_uri": "https://localhost:8080/"
        }
      },
      "source": [
        "print('Jaccard:',jaccard_rf,'Precision:',prec_rf,'Recall:',rec_rf)\n",
        "print('Jaccard:',jaccard_lr,'Precision:',prec_lr,'Recall:',rec_lr)\n",
        "print('Jaccard:',jaccard_knn,'Precision:',prec_knn,'Recall:',rec_knn)\n",
        "print('Jaccard:',jaccard_svm,'Precision:',prec_svm,'Recall:',rec_svm)"
      ],
      "execution_count": 233,
      "outputs": [
        {
          "output_type": "stream",
          "text": [
            "Jaccard: 0.7150466491348554 Precision: 0.725867951033514 Recall: 0.556119311193112\n",
            "Jaccard: 0.660759451265473 Precision: 0.660056657223796 Recall: 0.45675738007380073\n",
            "Jaccard: 0.6609269526473593 Precision: 0.6473531063351882 Recall: 0.4874308118081181\n",
            "Jaccard: 0.6616639587276595 Precision: 0.6631880154856085 Recall: 0.45433579335793356\n"
          ],
          "name": "stdout"
        }
      ]
    },
    {
      "cell_type": "code",
      "metadata": {
        "id": "0SVsZsCy61Lq",
        "outputId": "cb98d935-a428-4460-a93c-51e416fc63d4",
        "colab": {
          "base_uri": "https://localhost:8080/",
          "height": 632
        }
      },
      "source": [
        "#ROC curve.\n",
        "\n",
        "yscores = model_rf.predict_proba(xtest)\n",
        "\n",
        "false_positive_rate, true_positive_rate, thresholds = roc_curve(ytest.values, yscores[:,1])\n",
        "\n",
        "def plot_roc_curve(false_positive_rate, true_positive_rate, label=None):\n",
        "    plt.plot(false_positive_rate, true_positive_rate, linewidth=2, label='a')\n",
        "    plt.plot([0, 1], [0, 1], 'r', linewidth=4)\n",
        "    plt.axis([0, 1, 0, 1])\n",
        "    plt.xlabel('False Positive Rate (FPR)', fontsize=16)\n",
        "    plt.ylabel('True Positive Rate (TPR)', fontsize=16)\n",
        "\n",
        "plt.figure(figsize=(10, 10))\n",
        "plt.title('ROC curve', fontsize=20)\n",
        "plot_roc_curve(false_positive_rate, true_positive_rate)\n",
        "plt.show()"
      ],
      "execution_count": 234,
      "outputs": [
        {
          "output_type": "display_data",
          "data": {
            "image/png": "[encoded data removed]",
            "text/plain": [
              "<Figure size 720x720 with 1 Axes>"
            ]
          },
          "metadata": {
            "tags": [],
            "needs_background": "light"
          }
        }
      ]
    }
  ]
}